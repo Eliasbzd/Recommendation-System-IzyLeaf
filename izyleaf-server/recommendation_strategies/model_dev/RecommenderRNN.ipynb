{
  "cells": [
    {
      "cell_type": "code",
      "execution_count": 1,
      "metadata": {
        "id": "lP7kalYqDH8c"
      },
      "outputs": [],
      "source": [
        "import pandas as pd"
      ]
    },
    {
      "cell_type": "code",
      "execution_count": 3,
      "metadata": {
        "id": "b_kBJryeDekZ"
      },
      "outputs": [],
      "source": [
        "cars = pd.read_csv(\"data/car_0.csv\")\n",
        "\n",
        "likes_list = [pd.read_csv(\"data/like_0.csv\"), pd.read_csv(\"data/like_2.csv\"), pd.read_csv(\"data/like_3.csv\"), pd.read_csv(\"data/like_4.csv\"),]\n",
        "users_list = [pd.read_csv(\"data/user_0.csv\"), pd.read_csv(\"data/user_2.csv\"), pd.read_csv(\"data/user_3.csv\"), pd.read_csv(\"data/user_4.csv\"),]\n",
        "\n",
        "\n",
        "\n",
        "\n",
        "\n",
        "like = pd.concat(likes_list, axis=0, ignore_index=True)\n",
        "user = pd.concat(users_list, axis=0, ignore_index=True)"
      ]
    },
    {
      "attachments": {},
      "cell_type": "markdown",
      "metadata": {
        "id": "uO0Dhx2mUp0W"
      },
      "source": [
        "## Idea\n",
        "\n",
        "Combining session based (sequential recommendations) with car data (representation)\n",
        "We represent the cars as a vector of size 32\n",
        "the user's ideal car (propagating vector in the RNN) is set to the users demands initially"
      ]
    },
    {
      "cell_type": "code",
      "execution_count": 4,
      "metadata": {
        "colab": {
          "base_uri": "https://localhost:8080/",
          "height": 206
        },
        "id": "9byQEM0MUWuf",
        "outputId": "95a03a1b-f4a5-4518-e1d4-1d8f1ebc72d4"
      },
      "outputs": [
        {
          "data": {
            "text/html": [
              "<div>\n",
              "<style scoped>\n",
              "    .dataframe tbody tr th:only-of-type {\n",
              "        vertical-align: middle;\n",
              "    }\n",
              "\n",
              "    .dataframe tbody tr th {\n",
              "        vertical-align: top;\n",
              "    }\n",
              "\n",
              "    .dataframe thead th {\n",
              "        text-align: right;\n",
              "    }\n",
              "</style>\n",
              "<table border=\"1\" class=\"dataframe\">\n",
              "  <thead>\n",
              "    <tr style=\"text-align: right;\">\n",
              "      <th></th>\n",
              "      <th>brand</th>\n",
              "      <th>model</th>\n",
              "      <th>dealer</th>\n",
              "      <th>url</th>\n",
              "      <th>price</th>\n",
              "      <th>year</th>\n",
              "      <th>km</th>\n",
              "      <th>fuel</th>\n",
              "      <th>gearbox</th>\n",
              "      <th>color</th>\n",
              "      <th>doors</th>\n",
              "      <th>seats</th>\n",
              "      <th>fiscalPower</th>\n",
              "      <th>DINPower</th>\n",
              "      <th>critAir</th>\n",
              "      <th>nb_img</th>\n",
              "      <th>link</th>\n",
              "      <th>id</th>\n",
              "    </tr>\n",
              "  </thead>\n",
              "  <tbody>\n",
              "    <tr>\n",
              "      <th>0</th>\n",
              "      <td>CITROEN</td>\n",
              "      <td>C3</td>\n",
              "      <td>sofibrie</td>\n",
              "      <td>https://www.leboncoin.fr/voitures/2221069564.htm</td>\n",
              "      <td>12890</td>\n",
              "      <td>2017</td>\n",
              "      <td>60933</td>\n",
              "      <td>Essence</td>\n",
              "      <td>Manuelle</td>\n",
              "      <td>Blanc</td>\n",
              "      <td>5</td>\n",
              "      <td>5.0</td>\n",
              "      <td>4</td>\n",
              "      <td>82</td>\n",
              "      <td>1.0</td>\n",
              "      <td>7</td>\n",
              "      <td>NaN</td>\n",
              "      <td>2</td>\n",
              "    </tr>\n",
              "    <tr>\n",
              "      <th>1</th>\n",
              "      <td>RENAULT</td>\n",
              "      <td>Talisman</td>\n",
              "      <td>sofibrie</td>\n",
              "      <td>https://www.leboncoin.fr/voitures/2218598351.htm</td>\n",
              "      <td>24900</td>\n",
              "      <td>2019</td>\n",
              "      <td>63510</td>\n",
              "      <td>Essence</td>\n",
              "      <td>Automatique</td>\n",
              "      <td>Gris</td>\n",
              "      <td>5</td>\n",
              "      <td>5.0</td>\n",
              "      <td>8</td>\n",
              "      <td>159</td>\n",
              "      <td>1.0</td>\n",
              "      <td>20</td>\n",
              "      <td>NaN</td>\n",
              "      <td>3</td>\n",
              "    </tr>\n",
              "    <tr>\n",
              "      <th>2</th>\n",
              "      <td>RENAULT</td>\n",
              "      <td>Kadjar</td>\n",
              "      <td>sofibrie</td>\n",
              "      <td>https://www.leboncoin.fr/voitures/2229908445.htm</td>\n",
              "      <td>20890</td>\n",
              "      <td>2019</td>\n",
              "      <td>58858</td>\n",
              "      <td>Diesel</td>\n",
              "      <td>Manuelle</td>\n",
              "      <td>Gris</td>\n",
              "      <td>5</td>\n",
              "      <td>5.0</td>\n",
              "      <td>6</td>\n",
              "      <td>116</td>\n",
              "      <td>2.0</td>\n",
              "      <td>20</td>\n",
              "      <td>NaN</td>\n",
              "      <td>4</td>\n",
              "    </tr>\n",
              "    <tr>\n",
              "      <th>3</th>\n",
              "      <td>RENAULT</td>\n",
              "      <td>Koleos</td>\n",
              "      <td>sofibrie</td>\n",
              "      <td>https://www.leboncoin.fr/voitures/2301949775.htm</td>\n",
              "      <td>36490</td>\n",
              "      <td>2022</td>\n",
              "      <td>64</td>\n",
              "      <td>Essence</td>\n",
              "      <td>Automatique</td>\n",
              "      <td>Noir</td>\n",
              "      <td>5</td>\n",
              "      <td>5.0</td>\n",
              "      <td>8</td>\n",
              "      <td>158</td>\n",
              "      <td>1.0</td>\n",
              "      <td>20</td>\n",
              "      <td>NaN</td>\n",
              "      <td>5</td>\n",
              "    </tr>\n",
              "    <tr>\n",
              "      <th>4</th>\n",
              "      <td>CITROEN</td>\n",
              "      <td>C3</td>\n",
              "      <td>sofibrie</td>\n",
              "      <td>https://www.leboncoin.fr/voitures/2274683789.htm</td>\n",
              "      <td>14890</td>\n",
              "      <td>2021</td>\n",
              "      <td>42555</td>\n",
              "      <td>Essence</td>\n",
              "      <td>Manuelle</td>\n",
              "      <td>Gris</td>\n",
              "      <td>5</td>\n",
              "      <td>5.0</td>\n",
              "      <td>4</td>\n",
              "      <td>83</td>\n",
              "      <td>1.0</td>\n",
              "      <td>20</td>\n",
              "      <td>NaN</td>\n",
              "      <td>6</td>\n",
              "    </tr>\n",
              "  </tbody>\n",
              "</table>\n",
              "</div>"
            ],
            "text/plain": [
              "     brand     model    dealer  \\\n",
              "0  CITROEN        C3  sofibrie   \n",
              "1  RENAULT  Talisman  sofibrie   \n",
              "2  RENAULT    Kadjar  sofibrie   \n",
              "3  RENAULT    Koleos  sofibrie   \n",
              "4  CITROEN        C3  sofibrie   \n",
              "\n",
              "                                                url  price  year     km  \\\n",
              "0  https://www.leboncoin.fr/voitures/2221069564.htm  12890  2017  60933   \n",
              "1  https://www.leboncoin.fr/voitures/2218598351.htm  24900  2019  63510   \n",
              "2  https://www.leboncoin.fr/voitures/2229908445.htm  20890  2019  58858   \n",
              "3  https://www.leboncoin.fr/voitures/2301949775.htm  36490  2022     64   \n",
              "4  https://www.leboncoin.fr/voitures/2274683789.htm  14890  2021  42555   \n",
              "\n",
              "      fuel      gearbox  color  doors  seats  fiscalPower  DINPower  critAir  \\\n",
              "0  Essence     Manuelle  Blanc      5    5.0            4        82      1.0   \n",
              "1  Essence  Automatique   Gris      5    5.0            8       159      1.0   \n",
              "2   Diesel     Manuelle   Gris      5    5.0            6       116      2.0   \n",
              "3  Essence  Automatique   Noir      5    5.0            8       158      1.0   \n",
              "4  Essence     Manuelle   Gris      5    5.0            4        83      1.0   \n",
              "\n",
              "   nb_img link  id  \n",
              "0       7  NaN   2  \n",
              "1      20  NaN   3  \n",
              "2      20  NaN   4  \n",
              "3      20  NaN   5  \n",
              "4      20  NaN   6  "
            ]
          },
          "execution_count": 4,
          "metadata": {},
          "output_type": "execute_result"
        }
      ],
      "source": [
        "cars.head()"
      ]
    },
    {
      "cell_type": "code",
      "execution_count": 5,
      "metadata": {
        "id": "9MCuYbK_UsS6"
      },
      "outputs": [],
      "source": [
        "vectorized_cars = {}"
      ]
    },
    {
      "cell_type": "code",
      "execution_count": 6,
      "metadata": {
        "id": "DM0kDDOcVFD1"
      },
      "outputs": [],
      "source": [
        "parameter_weights = {\"brand\":2, \"model\":2,\"price\":4, \"year\": 2, \"km\": 3, \"fuel\": 5, \"gearbox\":4, \"color\": 3, \"doors\": 1, \"seats\": 1, \"fiscalPower\": 2, \"DINPower\": 2, \"critAir\": 1}"
      ]
    },
    {
      "cell_type": "code",
      "execution_count": 7,
      "metadata": {
        "colab": {
          "base_uri": "https://localhost:8080/"
        },
        "id": "3BgASL1RVOhd",
        "outputId": "5c87c712-e576-4670-867b-0bbe6b25c055"
      },
      "outputs": [
        {
          "name": "stdout",
          "output_type": "stream",
          "text": [
            "This number has to be exactly equal to 32 :\n"
          ]
        },
        {
          "data": {
            "text/plain": [
              "32"
            ]
          },
          "execution_count": 7,
          "metadata": {},
          "output_type": "execute_result"
        }
      ],
      "source": [
        "print(\"This number has to be exactly equal to 32 :\")\n",
        "sum(parameter_weights.values())"
      ]
    },
    {
      "cell_type": "code",
      "execution_count": 8,
      "metadata": {
        "id": "yEXRSaD2WtRG"
      },
      "outputs": [],
      "source": [
        "def map_to_num(dataf, colname):\n",
        "    mapping = {item:i for i, item in enumerate(dataf[colname].unique())}\n",
        "    dataf[colname+\"_n\"] = dataf[colname].apply(lambda x: mapping[x])\n",
        "    return mapping"
      ]
    },
    {
      "cell_type": "code",
      "execution_count": 9,
      "metadata": {
        "id": "oQ6RuXx5X3GW"
      },
      "outputs": [],
      "source": [
        "textual_data = [\"brand\", \"model\", \"fuel\", \"gearbox\", \"color\"]"
      ]
    },
    {
      "cell_type": "code",
      "execution_count": 10,
      "metadata": {
        "id": "dq7g3V3FXluZ"
      },
      "outputs": [],
      "source": [
        "mapping_dict = {}"
      ]
    },
    {
      "cell_type": "code",
      "execution_count": 11,
      "metadata": {
        "id": "b1lQB9T-XRqO"
      },
      "outputs": [],
      "source": [
        "for param in textual_data:\n",
        "  mapping_dict[param] = map_to_num(cars, param)"
      ]
    },
    {
      "attachments": {},
      "cell_type": "markdown",
      "metadata": {
        "id": "FJgULDtuYPbX"
      },
      "source": [
        "Note for the future, since color takes 3 places, we can actually just use the RGB, maybe get it from the image(majority color)"
      ]
    },
    {
      "cell_type": "code",
      "execution_count": 11,
      "metadata": {
        "colab": {
          "base_uri": "https://localhost:8080/",
          "height": 300
        },
        "id": "u8P0g60NYJQS",
        "outputId": "908ccfcb-ddb8-4138-aed9-44220e989e0e"
      },
      "outputs": [
        {
          "data": {
            "text/html": [
              "<div>\n",
              "<style scoped>\n",
              "    .dataframe tbody tr th:only-of-type {\n",
              "        vertical-align: middle;\n",
              "    }\n",
              "\n",
              "    .dataframe tbody tr th {\n",
              "        vertical-align: top;\n",
              "    }\n",
              "\n",
              "    .dataframe thead th {\n",
              "        text-align: right;\n",
              "    }\n",
              "</style>\n",
              "<table border=\"1\" class=\"dataframe\">\n",
              "  <thead>\n",
              "    <tr style=\"text-align: right;\">\n",
              "      <th></th>\n",
              "      <th>brand</th>\n",
              "      <th>model</th>\n",
              "      <th>dealer</th>\n",
              "      <th>url</th>\n",
              "      <th>price</th>\n",
              "      <th>year</th>\n",
              "      <th>km</th>\n",
              "      <th>fuel</th>\n",
              "      <th>gearbox</th>\n",
              "      <th>color</th>\n",
              "      <th>...</th>\n",
              "      <th>fiscalPower</th>\n",
              "      <th>DINPower</th>\n",
              "      <th>critAir</th>\n",
              "      <th>nb_img</th>\n",
              "      <th>id</th>\n",
              "      <th>brand_n</th>\n",
              "      <th>model_n</th>\n",
              "      <th>fuel_n</th>\n",
              "      <th>gearbox_n</th>\n",
              "      <th>color_n</th>\n",
              "    </tr>\n",
              "  </thead>\n",
              "  <tbody>\n",
              "    <tr>\n",
              "      <th>0</th>\n",
              "      <td>CITROEN</td>\n",
              "      <td>C3</td>\n",
              "      <td>sofibrie</td>\n",
              "      <td>https://www.leboncoin.fr/voitures/2221069564.htm</td>\n",
              "      <td>12890</td>\n",
              "      <td>2017</td>\n",
              "      <td>60933</td>\n",
              "      <td>Essence</td>\n",
              "      <td>Manuelle</td>\n",
              "      <td>Blanc</td>\n",
              "      <td>...</td>\n",
              "      <td>4</td>\n",
              "      <td>82</td>\n",
              "      <td>1.0</td>\n",
              "      <td>7</td>\n",
              "      <td>2</td>\n",
              "      <td>0</td>\n",
              "      <td>0</td>\n",
              "      <td>0</td>\n",
              "      <td>0</td>\n",
              "      <td>0</td>\n",
              "    </tr>\n",
              "    <tr>\n",
              "      <th>1</th>\n",
              "      <td>RENAULT</td>\n",
              "      <td>Talisman</td>\n",
              "      <td>sofibrie</td>\n",
              "      <td>https://www.leboncoin.fr/voitures/2218598351.htm</td>\n",
              "      <td>24900</td>\n",
              "      <td>2019</td>\n",
              "      <td>63510</td>\n",
              "      <td>Essence</td>\n",
              "      <td>Automatique</td>\n",
              "      <td>Gris</td>\n",
              "      <td>...</td>\n",
              "      <td>8</td>\n",
              "      <td>159</td>\n",
              "      <td>1.0</td>\n",
              "      <td>20</td>\n",
              "      <td>3</td>\n",
              "      <td>1</td>\n",
              "      <td>1</td>\n",
              "      <td>0</td>\n",
              "      <td>1</td>\n",
              "      <td>1</td>\n",
              "    </tr>\n",
              "    <tr>\n",
              "      <th>2</th>\n",
              "      <td>RENAULT</td>\n",
              "      <td>Kadjar</td>\n",
              "      <td>sofibrie</td>\n",
              "      <td>https://www.leboncoin.fr/voitures/2229908445.htm</td>\n",
              "      <td>20890</td>\n",
              "      <td>2019</td>\n",
              "      <td>58858</td>\n",
              "      <td>Diesel</td>\n",
              "      <td>Manuelle</td>\n",
              "      <td>Gris</td>\n",
              "      <td>...</td>\n",
              "      <td>6</td>\n",
              "      <td>116</td>\n",
              "      <td>2.0</td>\n",
              "      <td>20</td>\n",
              "      <td>4</td>\n",
              "      <td>1</td>\n",
              "      <td>2</td>\n",
              "      <td>1</td>\n",
              "      <td>0</td>\n",
              "      <td>1</td>\n",
              "    </tr>\n",
              "    <tr>\n",
              "      <th>3</th>\n",
              "      <td>RENAULT</td>\n",
              "      <td>Koleos</td>\n",
              "      <td>sofibrie</td>\n",
              "      <td>https://www.leboncoin.fr/voitures/2301949775.htm</td>\n",
              "      <td>36490</td>\n",
              "      <td>2022</td>\n",
              "      <td>64</td>\n",
              "      <td>Essence</td>\n",
              "      <td>Automatique</td>\n",
              "      <td>Noir</td>\n",
              "      <td>...</td>\n",
              "      <td>8</td>\n",
              "      <td>158</td>\n",
              "      <td>1.0</td>\n",
              "      <td>20</td>\n",
              "      <td>5</td>\n",
              "      <td>1</td>\n",
              "      <td>3</td>\n",
              "      <td>0</td>\n",
              "      <td>1</td>\n",
              "      <td>2</td>\n",
              "    </tr>\n",
              "    <tr>\n",
              "      <th>4</th>\n",
              "      <td>CITROEN</td>\n",
              "      <td>C3</td>\n",
              "      <td>sofibrie</td>\n",
              "      <td>https://www.leboncoin.fr/voitures/2274683789.htm</td>\n",
              "      <td>14890</td>\n",
              "      <td>2021</td>\n",
              "      <td>42555</td>\n",
              "      <td>Essence</td>\n",
              "      <td>Manuelle</td>\n",
              "      <td>Gris</td>\n",
              "      <td>...</td>\n",
              "      <td>4</td>\n",
              "      <td>83</td>\n",
              "      <td>1.0</td>\n",
              "      <td>20</td>\n",
              "      <td>6</td>\n",
              "      <td>0</td>\n",
              "      <td>0</td>\n",
              "      <td>0</td>\n",
              "      <td>0</td>\n",
              "      <td>1</td>\n",
              "    </tr>\n",
              "  </tbody>\n",
              "</table>\n",
              "<p>5 rows × 22 columns</p>\n",
              "</div>"
            ],
            "text/plain": [
              "     brand     model    dealer  \\\n",
              "0  CITROEN        C3  sofibrie   \n",
              "1  RENAULT  Talisman  sofibrie   \n",
              "2  RENAULT    Kadjar  sofibrie   \n",
              "3  RENAULT    Koleos  sofibrie   \n",
              "4  CITROEN        C3  sofibrie   \n",
              "\n",
              "                                                url  price  year     km  \\\n",
              "0  https://www.leboncoin.fr/voitures/2221069564.htm  12890  2017  60933   \n",
              "1  https://www.leboncoin.fr/voitures/2218598351.htm  24900  2019  63510   \n",
              "2  https://www.leboncoin.fr/voitures/2229908445.htm  20890  2019  58858   \n",
              "3  https://www.leboncoin.fr/voitures/2301949775.htm  36490  2022     64   \n",
              "4  https://www.leboncoin.fr/voitures/2274683789.htm  14890  2021  42555   \n",
              "\n",
              "      fuel      gearbox  color  ...  fiscalPower  DINPower  critAir  nb_img  \\\n",
              "0  Essence     Manuelle  Blanc  ...            4        82      1.0       7   \n",
              "1  Essence  Automatique   Gris  ...            8       159      1.0      20   \n",
              "2   Diesel     Manuelle   Gris  ...            6       116      2.0      20   \n",
              "3  Essence  Automatique   Noir  ...            8       158      1.0      20   \n",
              "4  Essence     Manuelle   Gris  ...            4        83      1.0      20   \n",
              "\n",
              "   id  brand_n  model_n  fuel_n  gearbox_n  color_n  \n",
              "0   2        0        0       0          0        0  \n",
              "1   3        1        1       0          1        1  \n",
              "2   4        1        2       1          0        1  \n",
              "3   5        1        3       0          1        2  \n",
              "4   6        0        0       0          0        1  \n",
              "\n",
              "[5 rows x 22 columns]"
            ]
          },
          "execution_count": 11,
          "metadata": {},
          "output_type": "execute_result"
        }
      ],
      "source": [
        "cars.head()"
      ]
    },
    {
      "cell_type": "code",
      "execution_count": 12,
      "metadata": {
        "id": "lPQwY5_rbi5G"
      },
      "outputs": [],
      "source": [
        "cars[\"price\"] = cars[\"price\"] / 1000"
      ]
    },
    {
      "cell_type": "code",
      "execution_count": 13,
      "metadata": {
        "id": "nHfOnjC0bpBj"
      },
      "outputs": [],
      "source": [
        "cars[\"km\"] = cars[\"km\"] / 10000\n",
        "cars[\"year\"] = cars[\"year\"] - 1900"
      ]
    },
    {
      "cell_type": "code",
      "execution_count": 14,
      "metadata": {
        "colab": {
          "base_uri": "https://localhost:8080/",
          "height": 300
        },
        "id": "MdsS1gvbbw49",
        "outputId": "5efe39be-d193-4828-bd90-1036e847d6d0"
      },
      "outputs": [
        {
          "data": {
            "text/html": [
              "<div>\n",
              "<style scoped>\n",
              "    .dataframe tbody tr th:only-of-type {\n",
              "        vertical-align: middle;\n",
              "    }\n",
              "\n",
              "    .dataframe tbody tr th {\n",
              "        vertical-align: top;\n",
              "    }\n",
              "\n",
              "    .dataframe thead th {\n",
              "        text-align: right;\n",
              "    }\n",
              "</style>\n",
              "<table border=\"1\" class=\"dataframe\">\n",
              "  <thead>\n",
              "    <tr style=\"text-align: right;\">\n",
              "      <th></th>\n",
              "      <th>brand</th>\n",
              "      <th>model</th>\n",
              "      <th>dealer</th>\n",
              "      <th>url</th>\n",
              "      <th>price</th>\n",
              "      <th>year</th>\n",
              "      <th>km</th>\n",
              "      <th>fuel</th>\n",
              "      <th>gearbox</th>\n",
              "      <th>color</th>\n",
              "      <th>...</th>\n",
              "      <th>DINPower</th>\n",
              "      <th>critAir</th>\n",
              "      <th>nb_img</th>\n",
              "      <th>link</th>\n",
              "      <th>id</th>\n",
              "      <th>brand_n</th>\n",
              "      <th>model_n</th>\n",
              "      <th>fuel_n</th>\n",
              "      <th>gearbox_n</th>\n",
              "      <th>color_n</th>\n",
              "    </tr>\n",
              "  </thead>\n",
              "  <tbody>\n",
              "    <tr>\n",
              "      <th>0</th>\n",
              "      <td>CITROEN</td>\n",
              "      <td>C3</td>\n",
              "      <td>sofibrie</td>\n",
              "      <td>https://www.leboncoin.fr/voitures/2221069564.htm</td>\n",
              "      <td>12.89</td>\n",
              "      <td>117</td>\n",
              "      <td>6.0933</td>\n",
              "      <td>Essence</td>\n",
              "      <td>Manuelle</td>\n",
              "      <td>Blanc</td>\n",
              "      <td>...</td>\n",
              "      <td>82</td>\n",
              "      <td>1.0</td>\n",
              "      <td>7</td>\n",
              "      <td>NaN</td>\n",
              "      <td>2</td>\n",
              "      <td>0</td>\n",
              "      <td>0</td>\n",
              "      <td>0</td>\n",
              "      <td>0</td>\n",
              "      <td>0</td>\n",
              "    </tr>\n",
              "    <tr>\n",
              "      <th>1</th>\n",
              "      <td>RENAULT</td>\n",
              "      <td>Talisman</td>\n",
              "      <td>sofibrie</td>\n",
              "      <td>https://www.leboncoin.fr/voitures/2218598351.htm</td>\n",
              "      <td>24.90</td>\n",
              "      <td>119</td>\n",
              "      <td>6.3510</td>\n",
              "      <td>Essence</td>\n",
              "      <td>Automatique</td>\n",
              "      <td>Gris</td>\n",
              "      <td>...</td>\n",
              "      <td>159</td>\n",
              "      <td>1.0</td>\n",
              "      <td>20</td>\n",
              "      <td>NaN</td>\n",
              "      <td>3</td>\n",
              "      <td>1</td>\n",
              "      <td>1</td>\n",
              "      <td>0</td>\n",
              "      <td>1</td>\n",
              "      <td>1</td>\n",
              "    </tr>\n",
              "    <tr>\n",
              "      <th>2</th>\n",
              "      <td>RENAULT</td>\n",
              "      <td>Kadjar</td>\n",
              "      <td>sofibrie</td>\n",
              "      <td>https://www.leboncoin.fr/voitures/2229908445.htm</td>\n",
              "      <td>20.89</td>\n",
              "      <td>119</td>\n",
              "      <td>5.8858</td>\n",
              "      <td>Diesel</td>\n",
              "      <td>Manuelle</td>\n",
              "      <td>Gris</td>\n",
              "      <td>...</td>\n",
              "      <td>116</td>\n",
              "      <td>2.0</td>\n",
              "      <td>20</td>\n",
              "      <td>NaN</td>\n",
              "      <td>4</td>\n",
              "      <td>1</td>\n",
              "      <td>2</td>\n",
              "      <td>1</td>\n",
              "      <td>0</td>\n",
              "      <td>1</td>\n",
              "    </tr>\n",
              "    <tr>\n",
              "      <th>3</th>\n",
              "      <td>RENAULT</td>\n",
              "      <td>Koleos</td>\n",
              "      <td>sofibrie</td>\n",
              "      <td>https://www.leboncoin.fr/voitures/2301949775.htm</td>\n",
              "      <td>36.49</td>\n",
              "      <td>122</td>\n",
              "      <td>0.0064</td>\n",
              "      <td>Essence</td>\n",
              "      <td>Automatique</td>\n",
              "      <td>Noir</td>\n",
              "      <td>...</td>\n",
              "      <td>158</td>\n",
              "      <td>1.0</td>\n",
              "      <td>20</td>\n",
              "      <td>NaN</td>\n",
              "      <td>5</td>\n",
              "      <td>1</td>\n",
              "      <td>3</td>\n",
              "      <td>0</td>\n",
              "      <td>1</td>\n",
              "      <td>2</td>\n",
              "    </tr>\n",
              "    <tr>\n",
              "      <th>4</th>\n",
              "      <td>CITROEN</td>\n",
              "      <td>C3</td>\n",
              "      <td>sofibrie</td>\n",
              "      <td>https://www.leboncoin.fr/voitures/2274683789.htm</td>\n",
              "      <td>14.89</td>\n",
              "      <td>121</td>\n",
              "      <td>4.2555</td>\n",
              "      <td>Essence</td>\n",
              "      <td>Manuelle</td>\n",
              "      <td>Gris</td>\n",
              "      <td>...</td>\n",
              "      <td>83</td>\n",
              "      <td>1.0</td>\n",
              "      <td>20</td>\n",
              "      <td>NaN</td>\n",
              "      <td>6</td>\n",
              "      <td>0</td>\n",
              "      <td>0</td>\n",
              "      <td>0</td>\n",
              "      <td>0</td>\n",
              "      <td>1</td>\n",
              "    </tr>\n",
              "  </tbody>\n",
              "</table>\n",
              "<p>5 rows × 23 columns</p>\n",
              "</div>"
            ],
            "text/plain": [
              "     brand     model    dealer  \\\n",
              "0  CITROEN        C3  sofibrie   \n",
              "1  RENAULT  Talisman  sofibrie   \n",
              "2  RENAULT    Kadjar  sofibrie   \n",
              "3  RENAULT    Koleos  sofibrie   \n",
              "4  CITROEN        C3  sofibrie   \n",
              "\n",
              "                                                url  price  year      km  \\\n",
              "0  https://www.leboncoin.fr/voitures/2221069564.htm  12.89   117  6.0933   \n",
              "1  https://www.leboncoin.fr/voitures/2218598351.htm  24.90   119  6.3510   \n",
              "2  https://www.leboncoin.fr/voitures/2229908445.htm  20.89   119  5.8858   \n",
              "3  https://www.leboncoin.fr/voitures/2301949775.htm  36.49   122  0.0064   \n",
              "4  https://www.leboncoin.fr/voitures/2274683789.htm  14.89   121  4.2555   \n",
              "\n",
              "      fuel      gearbox  color  ...  DINPower  critAir  nb_img  link  id  \\\n",
              "0  Essence     Manuelle  Blanc  ...        82      1.0       7   NaN   2   \n",
              "1  Essence  Automatique   Gris  ...       159      1.0      20   NaN   3   \n",
              "2   Diesel     Manuelle   Gris  ...       116      2.0      20   NaN   4   \n",
              "3  Essence  Automatique   Noir  ...       158      1.0      20   NaN   5   \n",
              "4  Essence     Manuelle   Gris  ...        83      1.0      20   NaN   6   \n",
              "\n",
              "   brand_n model_n  fuel_n  gearbox_n  color_n  \n",
              "0        0       0       0          0        0  \n",
              "1        1       1       0          1        1  \n",
              "2        1       2       1          0        1  \n",
              "3        1       3       0          1        2  \n",
              "4        0       0       0          0        1  \n",
              "\n",
              "[5 rows x 23 columns]"
            ]
          },
          "execution_count": 14,
          "metadata": {},
          "output_type": "execute_result"
        }
      ],
      "source": [
        "cars.head()"
      ]
    },
    {
      "cell_type": "code",
      "execution_count": 15,
      "metadata": {
        "id": "IfddcPIVZKTB"
      },
      "outputs": [],
      "source": [
        "import numpy as np"
      ]
    },
    {
      "cell_type": "code",
      "execution_count": 16,
      "metadata": {
        "id": "Je56U7I1Z1fl"
      },
      "outputs": [],
      "source": [
        "car_vectors = {}"
      ]
    },
    {
      "cell_type": "code",
      "execution_count": 17,
      "metadata": {
        "id": "KYfKwYEhYKvR"
      },
      "outputs": [],
      "source": [
        "for index, row in cars.iterrows():\n",
        "  car_vector = np.ndarray((32,))\n",
        "  i = 0\n",
        "  for param, weight in parameter_weights.items():\n",
        "    if param in textual_data:\n",
        "      car_vector[i:i+weight] = row[param+\"_n\"]\n",
        "    else :\n",
        "      car_vector[i:i+weight] = row[param]\n",
        "    i += weight\n",
        "  car_vectors[row[\"id\"]] = car_vector"
      ]
    },
    {
      "cell_type": "code",
      "execution_count": null,
      "metadata": {
        "id": "LI2OyRPVbGsF"
      },
      "outputs": [],
      "source": []
    },
    {
      "cell_type": "code",
      "execution_count": null,
      "metadata": {
        "id": "slrWBaRlbKrV"
      },
      "outputs": [],
      "source": []
    },
    {
      "attachments": {},
      "cell_type": "markdown",
      "metadata": {
        "id": "O1ScHfe_cUyE"
      },
      "source": [
        "# Data Preparation"
      ]
    },
    {
      "cell_type": "code",
      "execution_count": 18,
      "metadata": {
        "colab": {
          "base_uri": "https://localhost:8080/",
          "height": 206
        },
        "id": "MnoeetpgcUK1",
        "outputId": "8862ed9a-0883-4474-9c8d-cb4aa4dd9bca"
      },
      "outputs": [
        {
          "data": {
            "text/html": [
              "<div>\n",
              "<style scoped>\n",
              "    .dataframe tbody tr th:only-of-type {\n",
              "        vertical-align: middle;\n",
              "    }\n",
              "\n",
              "    .dataframe tbody tr th {\n",
              "        vertical-align: top;\n",
              "    }\n",
              "\n",
              "    .dataframe thead th {\n",
              "        text-align: right;\n",
              "    }\n",
              "</style>\n",
              "<table border=\"1\" class=\"dataframe\">\n",
              "  <thead>\n",
              "    <tr style=\"text-align: right;\">\n",
              "      <th></th>\n",
              "      <th>user_id</th>\n",
              "      <th>car_id</th>\n",
              "      <th>value</th>\n",
              "      <th>swiped</th>\n",
              "    </tr>\n",
              "  </thead>\n",
              "  <tbody>\n",
              "    <tr>\n",
              "      <th>0</th>\n",
              "      <td>57</td>\n",
              "      <td>2</td>\n",
              "      <td>-1</td>\n",
              "      <td>t</td>\n",
              "    </tr>\n",
              "    <tr>\n",
              "      <th>1</th>\n",
              "      <td>29</td>\n",
              "      <td>3</td>\n",
              "      <td>-1</td>\n",
              "      <td>f</td>\n",
              "    </tr>\n",
              "    <tr>\n",
              "      <th>2</th>\n",
              "      <td>29</td>\n",
              "      <td>4</td>\n",
              "      <td>-1</td>\n",
              "      <td>f</td>\n",
              "    </tr>\n",
              "    <tr>\n",
              "      <th>3</th>\n",
              "      <td>29</td>\n",
              "      <td>5</td>\n",
              "      <td>-1</td>\n",
              "      <td>f</td>\n",
              "    </tr>\n",
              "    <tr>\n",
              "      <th>4</th>\n",
              "      <td>29</td>\n",
              "      <td>6</td>\n",
              "      <td>-1</td>\n",
              "      <td>f</td>\n",
              "    </tr>\n",
              "  </tbody>\n",
              "</table>\n",
              "</div>"
            ],
            "text/plain": [
              "   user_id  car_id  value swiped\n",
              "0       57       2     -1      t\n",
              "1       29       3     -1      f\n",
              "2       29       4     -1      f\n",
              "3       29       5     -1      f\n",
              "4       29       6     -1      f"
            ]
          },
          "execution_count": 18,
          "metadata": {},
          "output_type": "execute_result"
        }
      ],
      "source": [
        "like.head()"
      ]
    },
    {
      "cell_type": "code",
      "execution_count": 19,
      "metadata": {
        "colab": {
          "base_uri": "https://localhost:8080/",
          "height": 206
        },
        "id": "VIA-frbndc6f",
        "outputId": "76f0df94-50a5-482f-ac7c-d91b7825e723"
      },
      "outputs": [
        {
          "data": {
            "text/html": [
              "<div>\n",
              "<style scoped>\n",
              "    .dataframe tbody tr th:only-of-type {\n",
              "        vertical-align: middle;\n",
              "    }\n",
              "\n",
              "    .dataframe tbody tr th {\n",
              "        vertical-align: top;\n",
              "    }\n",
              "\n",
              "    .dataframe thead th {\n",
              "        text-align: right;\n",
              "    }\n",
              "</style>\n",
              "<table border=\"1\" class=\"dataframe\">\n",
              "  <thead>\n",
              "    <tr style=\"text-align: right;\">\n",
              "      <th></th>\n",
              "      <th>maxPrice</th>\n",
              "      <th>essence</th>\n",
              "      <th>diesel</th>\n",
              "      <th>hybrid</th>\n",
              "      <th>elec</th>\n",
              "      <th>manual</th>\n",
              "      <th>auto</th>\n",
              "      <th>id</th>\n",
              "    </tr>\n",
              "  </thead>\n",
              "  <tbody>\n",
              "    <tr>\n",
              "      <th>0</th>\n",
              "      <td>25000</td>\n",
              "      <td>t</td>\n",
              "      <td>f</td>\n",
              "      <td>t</td>\n",
              "      <td>t</td>\n",
              "      <td>t</td>\n",
              "      <td>t</td>\n",
              "      <td>57</td>\n",
              "    </tr>\n",
              "    <tr>\n",
              "      <th>1</th>\n",
              "      <td>-1</td>\n",
              "      <td>t</td>\n",
              "      <td>f</td>\n",
              "      <td>f</td>\n",
              "      <td>f</td>\n",
              "      <td>t</td>\n",
              "      <td>f</td>\n",
              "      <td>27</td>\n",
              "    </tr>\n",
              "    <tr>\n",
              "      <th>2</th>\n",
              "      <td>25000</td>\n",
              "      <td>t</td>\n",
              "      <td>f</td>\n",
              "      <td>t</td>\n",
              "      <td>t</td>\n",
              "      <td>t</td>\n",
              "      <td>t</td>\n",
              "      <td>28</td>\n",
              "    </tr>\n",
              "    <tr>\n",
              "      <th>3</th>\n",
              "      <td>13000</td>\n",
              "      <td>t</td>\n",
              "      <td>t</td>\n",
              "      <td>f</td>\n",
              "      <td>f</td>\n",
              "      <td>t</td>\n",
              "      <td>f</td>\n",
              "      <td>29</td>\n",
              "    </tr>\n",
              "    <tr>\n",
              "      <th>4</th>\n",
              "      <td>64000</td>\n",
              "      <td>t</td>\n",
              "      <td>t</td>\n",
              "      <td>f</td>\n",
              "      <td>f</td>\n",
              "      <td>f</td>\n",
              "      <td>t</td>\n",
              "      <td>30</td>\n",
              "    </tr>\n",
              "  </tbody>\n",
              "</table>\n",
              "</div>"
            ],
            "text/plain": [
              "   maxPrice essence diesel hybrid elec manual auto  id\n",
              "0     25000       t      f      t    t      t    t  57\n",
              "1        -1       t      f      f    f      t    f  27\n",
              "2     25000       t      f      t    t      t    t  28\n",
              "3     13000       t      t      f    f      t    f  29\n",
              "4     64000       t      t      f    f      f    t  30"
            ]
          },
          "execution_count": 19,
          "metadata": {},
          "output_type": "execute_result"
        }
      ],
      "source": [
        "user.head()"
      ]
    },
    {
      "cell_type": "code",
      "execution_count": 20,
      "metadata": {
        "id": "_DTLGysegIej"
      },
      "outputs": [],
      "source": [
        "user_context_vectors = {}"
      ]
    },
    {
      "cell_type": "code",
      "execution_count": 21,
      "metadata": {
        "id": "ZF7L43Djgfoy"
      },
      "outputs": [],
      "source": [
        "for index, row in user.iterrows():\n",
        "  user_vector = np.array([0]*32)\n",
        "  user_vector[3:3+4] = row[\"maxPrice\"] / 1000\n",
        "  user_vector[12] = int(row[\"essence\"] == \"t\")\n",
        "  user_vector[13] = int(row[\"diesel\"]  == \"t\")\n",
        "  user_vector[14] = int(row[\"hybrid\"]  == \"t\")\n",
        "  user_vector[15] = int(row[\"elec\"] == \"t\")\n",
        "\n",
        "  user_vector[17:19] = int(row[\"manual\"]  == \"t\")\n",
        "  user_vector[19:21] = int(row[\"auto\"]  == \"t\")\n",
        "  user_context_vectors[row[\"id\"]] = user_vector"
      ]
    },
    {
      "cell_type": "code",
      "execution_count": 22,
      "metadata": {
        "id": "U7jGMXewioRd"
      },
      "outputs": [],
      "source": [
        "inputs = []\n",
        "outputs = []\n",
        "current_context_vectors= user_context_vectors.copy()"
      ]
    },
    {
      "cell_type": "code",
      "execution_count": null,
      "metadata": {
        "id": "vuydaxfgMGq0"
      },
      "outputs": [],
      "source": []
    },
    {
      "cell_type": "code",
      "execution_count": 23,
      "metadata": {
        "colab": {
          "base_uri": "https://localhost:8080/",
          "height": 206
        },
        "id": "FmkylXQZLV5l",
        "outputId": "110cb921-d87e-4b48-ccd7-acb1e065c238"
      },
      "outputs": [
        {
          "data": {
            "text/html": [
              "<div>\n",
              "<style scoped>\n",
              "    .dataframe tbody tr th:only-of-type {\n",
              "        vertical-align: middle;\n",
              "    }\n",
              "\n",
              "    .dataframe tbody tr th {\n",
              "        vertical-align: top;\n",
              "    }\n",
              "\n",
              "    .dataframe thead th {\n",
              "        text-align: right;\n",
              "    }\n",
              "</style>\n",
              "<table border=\"1\" class=\"dataframe\">\n",
              "  <thead>\n",
              "    <tr style=\"text-align: right;\">\n",
              "      <th></th>\n",
              "      <th>user_id</th>\n",
              "      <th>car_id</th>\n",
              "      <th>value</th>\n",
              "      <th>swiped</th>\n",
              "    </tr>\n",
              "  </thead>\n",
              "  <tbody>\n",
              "    <tr>\n",
              "      <th>0</th>\n",
              "      <td>57</td>\n",
              "      <td>2</td>\n",
              "      <td>-1</td>\n",
              "      <td>t</td>\n",
              "    </tr>\n",
              "    <tr>\n",
              "      <th>1</th>\n",
              "      <td>29</td>\n",
              "      <td>3</td>\n",
              "      <td>-1</td>\n",
              "      <td>f</td>\n",
              "    </tr>\n",
              "    <tr>\n",
              "      <th>2</th>\n",
              "      <td>29</td>\n",
              "      <td>4</td>\n",
              "      <td>-1</td>\n",
              "      <td>f</td>\n",
              "    </tr>\n",
              "    <tr>\n",
              "      <th>3</th>\n",
              "      <td>29</td>\n",
              "      <td>5</td>\n",
              "      <td>-1</td>\n",
              "      <td>f</td>\n",
              "    </tr>\n",
              "    <tr>\n",
              "      <th>4</th>\n",
              "      <td>29</td>\n",
              "      <td>6</td>\n",
              "      <td>-1</td>\n",
              "      <td>f</td>\n",
              "    </tr>\n",
              "  </tbody>\n",
              "</table>\n",
              "</div>"
            ],
            "text/plain": [
              "   user_id  car_id  value swiped\n",
              "0       57       2     -1      t\n",
              "1       29       3     -1      f\n",
              "2       29       4     -1      f\n",
              "3       29       5     -1      f\n",
              "4       29       6     -1      f"
            ]
          },
          "execution_count": 23,
          "metadata": {},
          "output_type": "execute_result"
        }
      ],
      "source": [
        "like.head()"
      ]
    },
    {
      "cell_type": "code",
      "execution_count": 25,
      "metadata": {
        "colab": {
          "base_uri": "https://localhost:8080/"
        },
        "id": "2RyMzk-Di8-5",
        "outputId": "498b82f4-9fad-4fbb-84cd-ff7ed9cb237f"
      },
      "outputs": [
        {
          "name": "stderr",
          "output_type": "stream",
          "text": [
            "C:\\Users\\Abderrahmane\\AppData\\Local\\Temp\\ipykernel_10288\\2747314896.py:2: UserWarning: Boolean Series key will be reindexed to match DataFrame index.\n",
            "  ideal_cars = like.iloc[index:][like[\"user_id\"] == inter[\"user_id\"]][like[\"value\"] == 0]\n"
          ]
        }
      ],
      "source": [
        "for index,inter in like.iterrows():\n",
        "  ideal_cars = like.iloc[index:][like[\"user_id\"] == inter[\"user_id\"]][like[\"value\"] == 0] \n",
        "  if ideal_cars.shape[0] > 0:\n",
        "    if not (inter[\"user_id\"] in current_context_vectors.keys()) :\n",
        "      user_context = np.array([0]*32)\n",
        "    else:\n",
        "      user_context = current_context_vectors[inter[\"user_id\"]]\n",
        "    inputs.append(np.concatenate((car_vectors[inter[\"car_id\"]], np.array([inter[\"value\"]]*16) ,user_context )))\n",
        "    outputs.append(car_vectors[ideal_cars.iloc[0][\"car_id\"]])\n",
        "  if inter[\"value\"] == 0:\n",
        "    current_context_vectors[inter[\"user_id\"]] = car_vectors[inter[\"car_id\"]]\n",
        "    \n"
      ]
    },
    {
      "cell_type": "code",
      "execution_count": 72,
      "metadata": {
        "colab": {
          "base_uri": "https://localhost:8080/"
        },
        "id": "RKwUQjMsIxpP",
        "outputId": "6f7a76fb-9f9c-46d9-d07f-ede49e09024c"
      },
      "outputs": [
        {
          "data": {
            "text/plain": [
              "True"
            ]
          },
          "execution_count": 72,
          "metadata": {},
          "output_type": "execute_result"
        }
      ],
      "source": [
        "len(inputs) == len(outputs)"
      ]
    },
    {
      "cell_type": "code",
      "execution_count": 73,
      "metadata": {
        "colab": {
          "base_uri": "https://localhost:8080/"
        },
        "id": "aTLZIjzbKhoN",
        "outputId": "3ba8bef1-540e-407d-c6a6-24ce52b0db41"
      },
      "outputs": [
        {
          "data": {
            "text/plain": [
              "13805"
            ]
          },
          "execution_count": 73,
          "metadata": {},
          "output_type": "execute_result"
        }
      ],
      "source": [
        "len(inputs)"
      ]
    },
    {
      "cell_type": "code",
      "execution_count": 74,
      "metadata": {
        "colab": {
          "base_uri": "https://localhost:8080/"
        },
        "id": "LfmNk-H1Kmc1",
        "outputId": "7f8c398d-9b38-4d6b-a9dc-c6fbcc3c0388"
      },
      "outputs": [
        {
          "data": {
            "text/plain": [
              "32"
            ]
          },
          "execution_count": 74,
          "metadata": {},
          "output_type": "execute_result"
        }
      ],
      "source": [
        "len(outputs[0])"
      ]
    },
    {
      "cell_type": "code",
      "execution_count": 84,
      "metadata": {},
      "outputs": [],
      "source": [
        "inputs = np.nan_to_num(inputs)"
      ]
    },
    {
      "cell_type": "code",
      "execution_count": 85,
      "metadata": {},
      "outputs": [],
      "source": [
        "outputs = np.nan_to_num(outputs)"
      ]
    },
    {
      "attachments": {},
      "cell_type": "markdown",
      "metadata": {
        "id": "jkyHgMU3b8wE"
      },
      "source": [
        "# Building the neural network"
      ]
    },
    {
      "cell_type": "code",
      "execution_count": 86,
      "metadata": {
        "id": "pt0OVhAeeq36"
      },
      "outputs": [],
      "source": [
        "import tensorflow as tf"
      ]
    },
    {
      "cell_type": "code",
      "execution_count": 87,
      "metadata": {
        "id": "G4f8efwIeniX"
      },
      "outputs": [],
      "source": [
        "model = tf.keras.Sequential(\n",
        "    [\n",
        "        tf.keras.Input(shape=(64)),\n",
        "        tf.keras.layers.Dense(64, activation=\"relu\", name=\"Dense1\"),\n",
        "        tf.keras.layers.Dense(128, activation=\"relu\", name=\"Dense2\"),\n",
        "        tf.keras.layers.Dense(128, activation=\"relu\", name=\"Dense3\"),\n",
        "        tf.keras.layers.Dense(64, activation=\"relu\", name=\"Dense4\"),\n",
        "        tf.keras.layers.Dense(32, activation=\"relu\", name=\"DenseOutput\"),\n",
        "    ]\n",
        ")"
      ]
    },
    {
      "cell_type": "code",
      "execution_count": 88,
      "metadata": {
        "colab": {
          "base_uri": "https://localhost:8080/"
        },
        "id": "es6nHwtaJ4sU",
        "outputId": "507d316f-4c11-4b93-cd77-22020882a626"
      },
      "outputs": [
        {
          "name": "stdout",
          "output_type": "stream",
          "text": [
            "Model: \"sequential_4\"\n",
            "_________________________________________________________________\n",
            " Layer (type)                Output Shape              Param #   \n",
            "=================================================================\n",
            " Dense1 (Dense)              (None, 64)                4160      \n",
            "                                                                 \n",
            " Dense2 (Dense)              (None, 128)               8320      \n",
            "                                                                 \n",
            " Dense3 (Dense)              (None, 128)               16512     \n",
            "                                                                 \n",
            " Dense4 (Dense)              (None, 64)                8256      \n",
            "                                                                 \n",
            " DenseOutput (Dense)         (None, 32)                2080      \n",
            "                                                                 \n",
            "=================================================================\n",
            "Total params: 39,328\n",
            "Trainable params: 39,328\n",
            "Non-trainable params: 0\n",
            "_________________________________________________________________\n"
          ]
        }
      ],
      "source": [
        "model.summary()"
      ]
    },
    {
      "cell_type": "code",
      "execution_count": 89,
      "metadata": {
        "id": "_iy7dBW-J5zQ"
      },
      "outputs": [],
      "source": [
        "model.compile(\n",
        "    optimizer=tf.keras.optimizers.Adam(),  # Optimizer\n",
        "    # Loss function to minimize\n",
        "    loss=tf.keras.losses.CosineSimilarity(),\n",
        "    # List of metrics to monitor\n",
        "    metrics=[tf.keras.metrics.Precision()],\n",
        ")"
      ]
    },
    {
      "cell_type": "code",
      "execution_count": 90,
      "metadata": {
        "id": "lpw99ki-NvTr"
      },
      "outputs": [],
      "source": [
        "train_dataset = tf.data.Dataset.from_tensor_slices((inputs[:int(len(inputs)*3/4)],outputs[:int(len(outputs)*3/4)]))\n",
        "BATCH_SIZE = 64\n",
        "SHUFFLE_BUFFER_SIZE = 100\n",
        "train_dataset = train_dataset.shuffle(SHUFFLE_BUFFER_SIZE).batch(BATCH_SIZE)\n",
        "test_dataset =  tf.data.Dataset.from_tensor_slices((inputs[int(len(inputs)*3/4):],outputs[int(len(outputs)*3/4):]))"
      ]
    },
    {
      "cell_type": "code",
      "execution_count": 91,
      "metadata": {
        "colab": {
          "base_uri": "https://localhost:8080/"
        },
        "id": "pqID6QmvM_IC",
        "outputId": "f4da484e-1131-48be-f5da-d53a6f637c48"
      },
      "outputs": [
        {
          "name": "stdout",
          "output_type": "stream",
          "text": [
            "Epoch 1/11\n",
            "162/162 [==============================] - 2s 7ms/step - loss: -0.9598 - precision_5: 0.9613\n",
            "Epoch 2/11\n",
            "162/162 [==============================] - 1s 9ms/step - loss: -0.9701 - precision_5: 0.9721\n",
            "Epoch 3/11\n",
            "162/162 [==============================] - 1s 7ms/step - loss: -0.9724 - precision_5: 0.9712\n",
            "Epoch 4/11\n",
            "162/162 [==============================] - 1s 7ms/step - loss: -0.9727 - precision_5: 0.9759\n",
            "Epoch 5/11\n",
            "162/162 [==============================] - 3s 16ms/step - loss: -0.9745 - precision_5: 0.9745\n",
            "Epoch 6/11\n",
            "162/162 [==============================] - 1s 8ms/step - loss: -0.9750 - precision_5: 0.9737\n",
            "Epoch 7/11\n",
            "162/162 [==============================] - 1s 8ms/step - loss: -0.9752 - precision_5: 0.9717\n",
            "Epoch 8/11\n",
            "162/162 [==============================] - 1s 8ms/step - loss: -0.9758 - precision_5: 0.9711\n",
            "Epoch 9/11\n",
            "162/162 [==============================] - 1s 8ms/step - loss: -0.9760 - precision_5: 0.9705\n",
            "Epoch 10/11\n",
            "162/162 [==============================] - 1s 7ms/step - loss: -0.9762 - precision_5: 0.9702\n",
            "Epoch 11/11\n",
            "162/162 [==============================] - 1s 8ms/step - loss: -0.9766 - precision_5: 0.9702\n"
          ]
        },
        {
          "data": {
            "text/plain": [
              "<keras.callbacks.History at 0x1ef4b4bd4b0>"
            ]
          },
          "execution_count": 91,
          "metadata": {},
          "output_type": "execute_result"
        }
      ],
      "source": [
        "model.fit(train_dataset, batch_size=64, epochs=11)"
      ]
    },
    {
      "cell_type": "code",
      "execution_count": 92,
      "metadata": {
        "id": "uAWboeYrNCmL"
      },
      "outputs": [
        {
          "name": "stdout",
          "output_type": "stream",
          "text": [
            "INFO:tensorflow:Assets written to: ../base_model\\assets\n"
          ]
        }
      ],
      "source": [
        "model.save(\"../base_model\")"
      ]
    },
    {
      "cell_type": "code",
      "execution_count": 93,
      "metadata": {
        "id": "ibdng-u7PZHe"
      },
      "outputs": [
        {
          "name": "stdout",
          "output_type": "stream",
          "text": [
            "54/54 [==============================] - 0s 5ms/step - loss: -0.9727 - precision_5: 0.9798\n"
          ]
        },
        {
          "data": {
            "text/plain": [
              "[-0.9727262854576111, 0.9798335433006287]"
            ]
          },
          "execution_count": 93,
          "metadata": {},
          "output_type": "execute_result"
        }
      ],
      "source": [
        "model.evaluate(test_dataset.batch(BATCH_SIZE))"
      ]
    },
    {
      "cell_type": "code",
      "execution_count": null,
      "metadata": {},
      "outputs": [],
      "source": []
    }
  ],
  "metadata": {
    "accelerator": "GPU",
    "colab": {
      "provenance": []
    },
    "gpuClass": "standard",
    "kernelspec": {
      "display_name": "Python 3",
      "name": "python3"
    },
    "language_info": {
      "codemirror_mode": {
        "name": "ipython",
        "version": 3
      },
      "file_extension": ".py",
      "mimetype": "text/x-python",
      "name": "python",
      "nbconvert_exporter": "python",
      "pygments_lexer": "ipython3",
      "version": "3.10.7"
    }
  },
  "nbformat": 4,
  "nbformat_minor": 0
}
