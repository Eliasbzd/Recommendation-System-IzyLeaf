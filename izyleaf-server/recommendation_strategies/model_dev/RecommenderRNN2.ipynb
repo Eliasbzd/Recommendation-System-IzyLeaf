{
  "cells": [
    {
      "cell_type": "code",
      "execution_count": null,
      "metadata": {
        "id": "lP7kalYqDH8c"
      },
      "outputs": [],
      "source": [
        "import pandas as pd"
      ]
    },
    {
      "cell_type": "code",
      "execution_count": null,
      "metadata": {
        "id": "b_kBJryeDekZ"
      },
      "outputs": [],
      "source": [
        "cars = pd.read_csv(\"data/car_0.csv\")\n",
        "\n",
        "likes_list = [pd.read_csv(\"data/like_0.csv\"), pd.read_csv(\"data/like_2.csv\"), pd.read_csv(\"data/like_3.csv\"), pd.read_csv(\"data/like_4.csv\"),]\n",
        "users_list = [pd.read_csv(\"data/user_0.csv\"), pd.read_csv(\"data/user_2.csv\"), pd.read_csv(\"data/user_3.csv\"), pd.read_csv(\"data/user_4.csv\"),]\n",
        "\n",
        "\n",
        "\n",
        "\n",
        "\n",
        "like = pd.concat(likes_list, axis=0, ignore_index=True)\n",
        "user = pd.concat(users_list, axis=0, ignore_index=True)"
      ]
    },
    {
      "cell_type": "markdown",
      "metadata": {
        "id": "uO0Dhx2mUp0W"
      },
      "source": [
        "## Idea\n",
        "\n",
        "Combining session based (sequential recommendations) with car data (representation)\n",
        "We represent the cars as a vector of size 32\n",
        "the user's ideal car (propagating vector in the RNN) is set to the users demands initially"
      ]
    },
    {
      "cell_type": "code",
      "execution_count": null,
      "metadata": {
        "colab": {
          "base_uri": "https://localhost:8080/",
          "height": 270
        },
        "id": "9byQEM0MUWuf",
        "outputId": "50526cc8-2b15-4923-f20d-7dda827e363e"
      },
      "outputs": [
        {
          "output_type": "execute_result",
          "data": {
            "text/plain": [
              "     brand     model    dealer  \\\n",
              "0  CITROEN        C3  sofibrie   \n",
              "1  RENAULT  Talisman  sofibrie   \n",
              "2  RENAULT    Kadjar  sofibrie   \n",
              "3  RENAULT    Koleos  sofibrie   \n",
              "4  CITROEN        C3  sofibrie   \n",
              "\n",
              "                                                url  price  year     km  \\\n",
              "0  https://www.leboncoin.fr/voitures/2221069564.htm  12890  2017  60933   \n",
              "1  https://www.leboncoin.fr/voitures/2218598351.htm  24900  2019  63510   \n",
              "2  https://www.leboncoin.fr/voitures/2229908445.htm  20890  2019  58858   \n",
              "3  https://www.leboncoin.fr/voitures/2301949775.htm  36490  2022     64   \n",
              "4  https://www.leboncoin.fr/voitures/2274683789.htm  14890  2021  42555   \n",
              "\n",
              "      fuel      gearbox  color  doors  seats  fiscalPower  DINPower  critAir  \\\n",
              "0  Essence     Manuelle  Blanc      5    5.0            4        82      1.0   \n",
              "1  Essence  Automatique   Gris      5    5.0            8       159      1.0   \n",
              "2   Diesel     Manuelle   Gris      5    5.0            6       116      2.0   \n",
              "3  Essence  Automatique   Noir      5    5.0            8       158      1.0   \n",
              "4  Essence     Manuelle   Gris      5    5.0            4        83      1.0   \n",
              "\n",
              "   nb_img link  id  \n",
              "0       7  NaN   2  \n",
              "1      20  NaN   3  \n",
              "2      20  NaN   4  \n",
              "3      20  NaN   5  \n",
              "4      20  NaN   6  "
            ],
            "text/html": [
              "\n",
              "  <div id=\"df-e15ea8df-c2a6-4574-9a78-c212fe0db2a0\">\n",
              "    <div class=\"colab-df-container\">\n",
              "      <div>\n",
              "<style scoped>\n",
              "    .dataframe tbody tr th:only-of-type {\n",
              "        vertical-align: middle;\n",
              "    }\n",
              "\n",
              "    .dataframe tbody tr th {\n",
              "        vertical-align: top;\n",
              "    }\n",
              "\n",
              "    .dataframe thead th {\n",
              "        text-align: right;\n",
              "    }\n",
              "</style>\n",
              "<table border=\"1\" class=\"dataframe\">\n",
              "  <thead>\n",
              "    <tr style=\"text-align: right;\">\n",
              "      <th></th>\n",
              "      <th>brand</th>\n",
              "      <th>model</th>\n",
              "      <th>dealer</th>\n",
              "      <th>url</th>\n",
              "      <th>price</th>\n",
              "      <th>year</th>\n",
              "      <th>km</th>\n",
              "      <th>fuel</th>\n",
              "      <th>gearbox</th>\n",
              "      <th>color</th>\n",
              "      <th>doors</th>\n",
              "      <th>seats</th>\n",
              "      <th>fiscalPower</th>\n",
              "      <th>DINPower</th>\n",
              "      <th>critAir</th>\n",
              "      <th>nb_img</th>\n",
              "      <th>link</th>\n",
              "      <th>id</th>\n",
              "    </tr>\n",
              "  </thead>\n",
              "  <tbody>\n",
              "    <tr>\n",
              "      <th>0</th>\n",
              "      <td>CITROEN</td>\n",
              "      <td>C3</td>\n",
              "      <td>sofibrie</td>\n",
              "      <td>https://www.leboncoin.fr/voitures/2221069564.htm</td>\n",
              "      <td>12890</td>\n",
              "      <td>2017</td>\n",
              "      <td>60933</td>\n",
              "      <td>Essence</td>\n",
              "      <td>Manuelle</td>\n",
              "      <td>Blanc</td>\n",
              "      <td>5</td>\n",
              "      <td>5.0</td>\n",
              "      <td>4</td>\n",
              "      <td>82</td>\n",
              "      <td>1.0</td>\n",
              "      <td>7</td>\n",
              "      <td>NaN</td>\n",
              "      <td>2</td>\n",
              "    </tr>\n",
              "    <tr>\n",
              "      <th>1</th>\n",
              "      <td>RENAULT</td>\n",
              "      <td>Talisman</td>\n",
              "      <td>sofibrie</td>\n",
              "      <td>https://www.leboncoin.fr/voitures/2218598351.htm</td>\n",
              "      <td>24900</td>\n",
              "      <td>2019</td>\n",
              "      <td>63510</td>\n",
              "      <td>Essence</td>\n",
              "      <td>Automatique</td>\n",
              "      <td>Gris</td>\n",
              "      <td>5</td>\n",
              "      <td>5.0</td>\n",
              "      <td>8</td>\n",
              "      <td>159</td>\n",
              "      <td>1.0</td>\n",
              "      <td>20</td>\n",
              "      <td>NaN</td>\n",
              "      <td>3</td>\n",
              "    </tr>\n",
              "    <tr>\n",
              "      <th>2</th>\n",
              "      <td>RENAULT</td>\n",
              "      <td>Kadjar</td>\n",
              "      <td>sofibrie</td>\n",
              "      <td>https://www.leboncoin.fr/voitures/2229908445.htm</td>\n",
              "      <td>20890</td>\n",
              "      <td>2019</td>\n",
              "      <td>58858</td>\n",
              "      <td>Diesel</td>\n",
              "      <td>Manuelle</td>\n",
              "      <td>Gris</td>\n",
              "      <td>5</td>\n",
              "      <td>5.0</td>\n",
              "      <td>6</td>\n",
              "      <td>116</td>\n",
              "      <td>2.0</td>\n",
              "      <td>20</td>\n",
              "      <td>NaN</td>\n",
              "      <td>4</td>\n",
              "    </tr>\n",
              "    <tr>\n",
              "      <th>3</th>\n",
              "      <td>RENAULT</td>\n",
              "      <td>Koleos</td>\n",
              "      <td>sofibrie</td>\n",
              "      <td>https://www.leboncoin.fr/voitures/2301949775.htm</td>\n",
              "      <td>36490</td>\n",
              "      <td>2022</td>\n",
              "      <td>64</td>\n",
              "      <td>Essence</td>\n",
              "      <td>Automatique</td>\n",
              "      <td>Noir</td>\n",
              "      <td>5</td>\n",
              "      <td>5.0</td>\n",
              "      <td>8</td>\n",
              "      <td>158</td>\n",
              "      <td>1.0</td>\n",
              "      <td>20</td>\n",
              "      <td>NaN</td>\n",
              "      <td>5</td>\n",
              "    </tr>\n",
              "    <tr>\n",
              "      <th>4</th>\n",
              "      <td>CITROEN</td>\n",
              "      <td>C3</td>\n",
              "      <td>sofibrie</td>\n",
              "      <td>https://www.leboncoin.fr/voitures/2274683789.htm</td>\n",
              "      <td>14890</td>\n",
              "      <td>2021</td>\n",
              "      <td>42555</td>\n",
              "      <td>Essence</td>\n",
              "      <td>Manuelle</td>\n",
              "      <td>Gris</td>\n",
              "      <td>5</td>\n",
              "      <td>5.0</td>\n",
              "      <td>4</td>\n",
              "      <td>83</td>\n",
              "      <td>1.0</td>\n",
              "      <td>20</td>\n",
              "      <td>NaN</td>\n",
              "      <td>6</td>\n",
              "    </tr>\n",
              "  </tbody>\n",
              "</table>\n",
              "</div>\n",
              "      <button class=\"colab-df-convert\" onclick=\"convertToInteractive('df-e15ea8df-c2a6-4574-9a78-c212fe0db2a0')\"\n",
              "              title=\"Convert this dataframe to an interactive table.\"\n",
              "              style=\"display:none;\">\n",
              "        \n",
              "  <svg xmlns=\"http://www.w3.org/2000/svg\" height=\"24px\"viewBox=\"0 0 24 24\"\n",
              "       width=\"24px\">\n",
              "    <path d=\"M0 0h24v24H0V0z\" fill=\"none\"/>\n",
              "    <path d=\"M18.56 5.44l.94 2.06.94-2.06 2.06-.94-2.06-.94-.94-2.06-.94 2.06-2.06.94zm-11 1L8.5 8.5l.94-2.06 2.06-.94-2.06-.94L8.5 2.5l-.94 2.06-2.06.94zm10 10l.94 2.06.94-2.06 2.06-.94-2.06-.94-.94-2.06-.94 2.06-2.06.94z\"/><path d=\"M17.41 7.96l-1.37-1.37c-.4-.4-.92-.59-1.43-.59-.52 0-1.04.2-1.43.59L10.3 9.45l-7.72 7.72c-.78.78-.78 2.05 0 2.83L4 21.41c.39.39.9.59 1.41.59.51 0 1.02-.2 1.41-.59l7.78-7.78 2.81-2.81c.8-.78.8-2.07 0-2.86zM5.41 20L4 18.59l7.72-7.72 1.47 1.35L5.41 20z\"/>\n",
              "  </svg>\n",
              "      </button>\n",
              "      \n",
              "  <style>\n",
              "    .colab-df-container {\n",
              "      display:flex;\n",
              "      flex-wrap:wrap;\n",
              "      gap: 12px;\n",
              "    }\n",
              "\n",
              "    .colab-df-convert {\n",
              "      background-color: #E8F0FE;\n",
              "      border: none;\n",
              "      border-radius: 50%;\n",
              "      cursor: pointer;\n",
              "      display: none;\n",
              "      fill: #1967D2;\n",
              "      height: 32px;\n",
              "      padding: 0 0 0 0;\n",
              "      width: 32px;\n",
              "    }\n",
              "\n",
              "    .colab-df-convert:hover {\n",
              "      background-color: #E2EBFA;\n",
              "      box-shadow: 0px 1px 2px rgba(60, 64, 67, 0.3), 0px 1px 3px 1px rgba(60, 64, 67, 0.15);\n",
              "      fill: #174EA6;\n",
              "    }\n",
              "\n",
              "    [theme=dark] .colab-df-convert {\n",
              "      background-color: #3B4455;\n",
              "      fill: #D2E3FC;\n",
              "    }\n",
              "\n",
              "    [theme=dark] .colab-df-convert:hover {\n",
              "      background-color: #434B5C;\n",
              "      box-shadow: 0px 1px 3px 1px rgba(0, 0, 0, 0.15);\n",
              "      filter: drop-shadow(0px 1px 2px rgba(0, 0, 0, 0.3));\n",
              "      fill: #FFFFFF;\n",
              "    }\n",
              "  </style>\n",
              "\n",
              "      <script>\n",
              "        const buttonEl =\n",
              "          document.querySelector('#df-e15ea8df-c2a6-4574-9a78-c212fe0db2a0 button.colab-df-convert');\n",
              "        buttonEl.style.display =\n",
              "          google.colab.kernel.accessAllowed ? 'block' : 'none';\n",
              "\n",
              "        async function convertToInteractive(key) {\n",
              "          const element = document.querySelector('#df-e15ea8df-c2a6-4574-9a78-c212fe0db2a0');\n",
              "          const dataTable =\n",
              "            await google.colab.kernel.invokeFunction('convertToInteractive',\n",
              "                                                     [key], {});\n",
              "          if (!dataTable) return;\n",
              "\n",
              "          const docLinkHtml = 'Like what you see? Visit the ' +\n",
              "            '<a target=\"_blank\" href=https://colab.research.google.com/notebooks/data_table.ipynb>data table notebook</a>'\n",
              "            + ' to learn more about interactive tables.';\n",
              "          element.innerHTML = '';\n",
              "          dataTable['output_type'] = 'display_data';\n",
              "          await google.colab.output.renderOutput(dataTable, element);\n",
              "          const docLink = document.createElement('div');\n",
              "          docLink.innerHTML = docLinkHtml;\n",
              "          element.appendChild(docLink);\n",
              "        }\n",
              "      </script>\n",
              "    </div>\n",
              "  </div>\n",
              "  "
            ]
          },
          "metadata": {},
          "execution_count": 3
        }
      ],
      "source": [
        "cars.head()"
      ]
    },
    {
      "cell_type": "code",
      "execution_count": null,
      "metadata": {
        "id": "9MCuYbK_UsS6"
      },
      "outputs": [],
      "source": [
        "vectorized_cars = {}"
      ]
    },
    {
      "cell_type": "code",
      "execution_count": null,
      "metadata": {
        "id": "DM0kDDOcVFD1"
      },
      "outputs": [],
      "source": [
        "parameter_weights = {\"brand\":2, \"model\":2,\"price\":4, \"year\": 2, \"km\": 3, \"fuel\": 5, \"gearbox\":4, \"color\": 3, \"doors\": 1, \"seats\": 1, \"fiscalPower\": 2, \"DINPower\": 2, \"critAir\": 1}"
      ]
    },
    {
      "cell_type": "code",
      "execution_count": null,
      "metadata": {
        "colab": {
          "base_uri": "https://localhost:8080/"
        },
        "id": "3BgASL1RVOhd",
        "outputId": "3bcbd574-ba12-4cfb-8f00-ca5c916efe56"
      },
      "outputs": [
        {
          "output_type": "stream",
          "name": "stdout",
          "text": [
            "This number has to be exactly equal to 32 :\n"
          ]
        },
        {
          "output_type": "execute_result",
          "data": {
            "text/plain": [
              "32"
            ]
          },
          "metadata": {},
          "execution_count": 6
        }
      ],
      "source": [
        "print(\"This number has to be exactly equal to 32 :\")\n",
        "sum(parameter_weights.values())"
      ]
    },
    {
      "cell_type": "code",
      "execution_count": null,
      "metadata": {
        "id": "yEXRSaD2WtRG"
      },
      "outputs": [],
      "source": [
        "def map_to_num(dataf, colname):\n",
        "    mapping = {item:i for i, item in enumerate(dataf[colname].unique())}\n",
        "    dataf[colname+\"_n\"] = dataf[colname].apply(lambda x: mapping[x])\n",
        "    return mapping"
      ]
    },
    {
      "cell_type": "code",
      "execution_count": null,
      "metadata": {
        "id": "oQ6RuXx5X3GW"
      },
      "outputs": [],
      "source": [
        "textual_data = [\"brand\", \"model\", \"fuel\", \"gearbox\", \"color\"]"
      ]
    },
    {
      "cell_type": "code",
      "execution_count": null,
      "metadata": {
        "id": "dq7g3V3FXluZ"
      },
      "outputs": [],
      "source": [
        "mapping_dict = {}"
      ]
    },
    {
      "cell_type": "code",
      "execution_count": null,
      "metadata": {
        "id": "b1lQB9T-XRqO"
      },
      "outputs": [],
      "source": [
        "for param in textual_data:\n",
        "  mapping_dict[param] = map_to_num(cars, param)"
      ]
    },
    {
      "cell_type": "markdown",
      "metadata": {
        "id": "FJgULDtuYPbX"
      },
      "source": [
        "Note for the future, since color takes 3 places, we can actually just use the RGB, maybe get it from the image(majority color)"
      ]
    },
    {
      "cell_type": "code",
      "execution_count": null,
      "metadata": {
        "colab": {
          "base_uri": "https://localhost:8080/",
          "height": 300
        },
        "id": "u8P0g60NYJQS",
        "outputId": "026c3285-6fe2-4e4d-e4ad-3723e13f7f2b"
      },
      "outputs": [
        {
          "output_type": "execute_result",
          "data": {
            "text/plain": [
              "     brand     model    dealer  \\\n",
              "0  CITROEN        C3  sofibrie   \n",
              "1  RENAULT  Talisman  sofibrie   \n",
              "2  RENAULT    Kadjar  sofibrie   \n",
              "3  RENAULT    Koleos  sofibrie   \n",
              "4  CITROEN        C3  sofibrie   \n",
              "\n",
              "                                                url  price  year     km  \\\n",
              "0  https://www.leboncoin.fr/voitures/2221069564.htm  12890  2017  60933   \n",
              "1  https://www.leboncoin.fr/voitures/2218598351.htm  24900  2019  63510   \n",
              "2  https://www.leboncoin.fr/voitures/2229908445.htm  20890  2019  58858   \n",
              "3  https://www.leboncoin.fr/voitures/2301949775.htm  36490  2022     64   \n",
              "4  https://www.leboncoin.fr/voitures/2274683789.htm  14890  2021  42555   \n",
              "\n",
              "      fuel      gearbox  color  ...  DINPower  critAir  nb_img  link  id  \\\n",
              "0  Essence     Manuelle  Blanc  ...        82      1.0       7   NaN   2   \n",
              "1  Essence  Automatique   Gris  ...       159      1.0      20   NaN   3   \n",
              "2   Diesel     Manuelle   Gris  ...       116      2.0      20   NaN   4   \n",
              "3  Essence  Automatique   Noir  ...       158      1.0      20   NaN   5   \n",
              "4  Essence     Manuelle   Gris  ...        83      1.0      20   NaN   6   \n",
              "\n",
              "   brand_n model_n  fuel_n  gearbox_n  color_n  \n",
              "0        0       0       0          0        0  \n",
              "1        1       1       0          1        1  \n",
              "2        1       2       1          0        1  \n",
              "3        1       3       0          1        2  \n",
              "4        0       0       0          0        1  \n",
              "\n",
              "[5 rows x 23 columns]"
            ],
            "text/html": [
              "\n",
              "  <div id=\"df-b4c8d938-d266-4714-b9d7-86770226e3af\">\n",
              "    <div class=\"colab-df-container\">\n",
              "      <div>\n",
              "<style scoped>\n",
              "    .dataframe tbody tr th:only-of-type {\n",
              "        vertical-align: middle;\n",
              "    }\n",
              "\n",
              "    .dataframe tbody tr th {\n",
              "        vertical-align: top;\n",
              "    }\n",
              "\n",
              "    .dataframe thead th {\n",
              "        text-align: right;\n",
              "    }\n",
              "</style>\n",
              "<table border=\"1\" class=\"dataframe\">\n",
              "  <thead>\n",
              "    <tr style=\"text-align: right;\">\n",
              "      <th></th>\n",
              "      <th>brand</th>\n",
              "      <th>model</th>\n",
              "      <th>dealer</th>\n",
              "      <th>url</th>\n",
              "      <th>price</th>\n",
              "      <th>year</th>\n",
              "      <th>km</th>\n",
              "      <th>fuel</th>\n",
              "      <th>gearbox</th>\n",
              "      <th>color</th>\n",
              "      <th>...</th>\n",
              "      <th>DINPower</th>\n",
              "      <th>critAir</th>\n",
              "      <th>nb_img</th>\n",
              "      <th>link</th>\n",
              "      <th>id</th>\n",
              "      <th>brand_n</th>\n",
              "      <th>model_n</th>\n",
              "      <th>fuel_n</th>\n",
              "      <th>gearbox_n</th>\n",
              "      <th>color_n</th>\n",
              "    </tr>\n",
              "  </thead>\n",
              "  <tbody>\n",
              "    <tr>\n",
              "      <th>0</th>\n",
              "      <td>CITROEN</td>\n",
              "      <td>C3</td>\n",
              "      <td>sofibrie</td>\n",
              "      <td>https://www.leboncoin.fr/voitures/2221069564.htm</td>\n",
              "      <td>12890</td>\n",
              "      <td>2017</td>\n",
              "      <td>60933</td>\n",
              "      <td>Essence</td>\n",
              "      <td>Manuelle</td>\n",
              "      <td>Blanc</td>\n",
              "      <td>...</td>\n",
              "      <td>82</td>\n",
              "      <td>1.0</td>\n",
              "      <td>7</td>\n",
              "      <td>NaN</td>\n",
              "      <td>2</td>\n",
              "      <td>0</td>\n",
              "      <td>0</td>\n",
              "      <td>0</td>\n",
              "      <td>0</td>\n",
              "      <td>0</td>\n",
              "    </tr>\n",
              "    <tr>\n",
              "      <th>1</th>\n",
              "      <td>RENAULT</td>\n",
              "      <td>Talisman</td>\n",
              "      <td>sofibrie</td>\n",
              "      <td>https://www.leboncoin.fr/voitures/2218598351.htm</td>\n",
              "      <td>24900</td>\n",
              "      <td>2019</td>\n",
              "      <td>63510</td>\n",
              "      <td>Essence</td>\n",
              "      <td>Automatique</td>\n",
              "      <td>Gris</td>\n",
              "      <td>...</td>\n",
              "      <td>159</td>\n",
              "      <td>1.0</td>\n",
              "      <td>20</td>\n",
              "      <td>NaN</td>\n",
              "      <td>3</td>\n",
              "      <td>1</td>\n",
              "      <td>1</td>\n",
              "      <td>0</td>\n",
              "      <td>1</td>\n",
              "      <td>1</td>\n",
              "    </tr>\n",
              "    <tr>\n",
              "      <th>2</th>\n",
              "      <td>RENAULT</td>\n",
              "      <td>Kadjar</td>\n",
              "      <td>sofibrie</td>\n",
              "      <td>https://www.leboncoin.fr/voitures/2229908445.htm</td>\n",
              "      <td>20890</td>\n",
              "      <td>2019</td>\n",
              "      <td>58858</td>\n",
              "      <td>Diesel</td>\n",
              "      <td>Manuelle</td>\n",
              "      <td>Gris</td>\n",
              "      <td>...</td>\n",
              "      <td>116</td>\n",
              "      <td>2.0</td>\n",
              "      <td>20</td>\n",
              "      <td>NaN</td>\n",
              "      <td>4</td>\n",
              "      <td>1</td>\n",
              "      <td>2</td>\n",
              "      <td>1</td>\n",
              "      <td>0</td>\n",
              "      <td>1</td>\n",
              "    </tr>\n",
              "    <tr>\n",
              "      <th>3</th>\n",
              "      <td>RENAULT</td>\n",
              "      <td>Koleos</td>\n",
              "      <td>sofibrie</td>\n",
              "      <td>https://www.leboncoin.fr/voitures/2301949775.htm</td>\n",
              "      <td>36490</td>\n",
              "      <td>2022</td>\n",
              "      <td>64</td>\n",
              "      <td>Essence</td>\n",
              "      <td>Automatique</td>\n",
              "      <td>Noir</td>\n",
              "      <td>...</td>\n",
              "      <td>158</td>\n",
              "      <td>1.0</td>\n",
              "      <td>20</td>\n",
              "      <td>NaN</td>\n",
              "      <td>5</td>\n",
              "      <td>1</td>\n",
              "      <td>3</td>\n",
              "      <td>0</td>\n",
              "      <td>1</td>\n",
              "      <td>2</td>\n",
              "    </tr>\n",
              "    <tr>\n",
              "      <th>4</th>\n",
              "      <td>CITROEN</td>\n",
              "      <td>C3</td>\n",
              "      <td>sofibrie</td>\n",
              "      <td>https://www.leboncoin.fr/voitures/2274683789.htm</td>\n",
              "      <td>14890</td>\n",
              "      <td>2021</td>\n",
              "      <td>42555</td>\n",
              "      <td>Essence</td>\n",
              "      <td>Manuelle</td>\n",
              "      <td>Gris</td>\n",
              "      <td>...</td>\n",
              "      <td>83</td>\n",
              "      <td>1.0</td>\n",
              "      <td>20</td>\n",
              "      <td>NaN</td>\n",
              "      <td>6</td>\n",
              "      <td>0</td>\n",
              "      <td>0</td>\n",
              "      <td>0</td>\n",
              "      <td>0</td>\n",
              "      <td>1</td>\n",
              "    </tr>\n",
              "  </tbody>\n",
              "</table>\n",
              "<p>5 rows × 23 columns</p>\n",
              "</div>\n",
              "      <button class=\"colab-df-convert\" onclick=\"convertToInteractive('df-b4c8d938-d266-4714-b9d7-86770226e3af')\"\n",
              "              title=\"Convert this dataframe to an interactive table.\"\n",
              "              style=\"display:none;\">\n",
              "        \n",
              "  <svg xmlns=\"http://www.w3.org/2000/svg\" height=\"24px\"viewBox=\"0 0 24 24\"\n",
              "       width=\"24px\">\n",
              "    <path d=\"M0 0h24v24H0V0z\" fill=\"none\"/>\n",
              "    <path d=\"M18.56 5.44l.94 2.06.94-2.06 2.06-.94-2.06-.94-.94-2.06-.94 2.06-2.06.94zm-11 1L8.5 8.5l.94-2.06 2.06-.94-2.06-.94L8.5 2.5l-.94 2.06-2.06.94zm10 10l.94 2.06.94-2.06 2.06-.94-2.06-.94-.94-2.06-.94 2.06-2.06.94z\"/><path d=\"M17.41 7.96l-1.37-1.37c-.4-.4-.92-.59-1.43-.59-.52 0-1.04.2-1.43.59L10.3 9.45l-7.72 7.72c-.78.78-.78 2.05 0 2.83L4 21.41c.39.39.9.59 1.41.59.51 0 1.02-.2 1.41-.59l7.78-7.78 2.81-2.81c.8-.78.8-2.07 0-2.86zM5.41 20L4 18.59l7.72-7.72 1.47 1.35L5.41 20z\"/>\n",
              "  </svg>\n",
              "      </button>\n",
              "      \n",
              "  <style>\n",
              "    .colab-df-container {\n",
              "      display:flex;\n",
              "      flex-wrap:wrap;\n",
              "      gap: 12px;\n",
              "    }\n",
              "\n",
              "    .colab-df-convert {\n",
              "      background-color: #E8F0FE;\n",
              "      border: none;\n",
              "      border-radius: 50%;\n",
              "      cursor: pointer;\n",
              "      display: none;\n",
              "      fill: #1967D2;\n",
              "      height: 32px;\n",
              "      padding: 0 0 0 0;\n",
              "      width: 32px;\n",
              "    }\n",
              "\n",
              "    .colab-df-convert:hover {\n",
              "      background-color: #E2EBFA;\n",
              "      box-shadow: 0px 1px 2px rgba(60, 64, 67, 0.3), 0px 1px 3px 1px rgba(60, 64, 67, 0.15);\n",
              "      fill: #174EA6;\n",
              "    }\n",
              "\n",
              "    [theme=dark] .colab-df-convert {\n",
              "      background-color: #3B4455;\n",
              "      fill: #D2E3FC;\n",
              "    }\n",
              "\n",
              "    [theme=dark] .colab-df-convert:hover {\n",
              "      background-color: #434B5C;\n",
              "      box-shadow: 0px 1px 3px 1px rgba(0, 0, 0, 0.15);\n",
              "      filter: drop-shadow(0px 1px 2px rgba(0, 0, 0, 0.3));\n",
              "      fill: #FFFFFF;\n",
              "    }\n",
              "  </style>\n",
              "\n",
              "      <script>\n",
              "        const buttonEl =\n",
              "          document.querySelector('#df-b4c8d938-d266-4714-b9d7-86770226e3af button.colab-df-convert');\n",
              "        buttonEl.style.display =\n",
              "          google.colab.kernel.accessAllowed ? 'block' : 'none';\n",
              "\n",
              "        async function convertToInteractive(key) {\n",
              "          const element = document.querySelector('#df-b4c8d938-d266-4714-b9d7-86770226e3af');\n",
              "          const dataTable =\n",
              "            await google.colab.kernel.invokeFunction('convertToInteractive',\n",
              "                                                     [key], {});\n",
              "          if (!dataTable) return;\n",
              "\n",
              "          const docLinkHtml = 'Like what you see? Visit the ' +\n",
              "            '<a target=\"_blank\" href=https://colab.research.google.com/notebooks/data_table.ipynb>data table notebook</a>'\n",
              "            + ' to learn more about interactive tables.';\n",
              "          element.innerHTML = '';\n",
              "          dataTable['output_type'] = 'display_data';\n",
              "          await google.colab.output.renderOutput(dataTable, element);\n",
              "          const docLink = document.createElement('div');\n",
              "          docLink.innerHTML = docLinkHtml;\n",
              "          element.appendChild(docLink);\n",
              "        }\n",
              "      </script>\n",
              "    </div>\n",
              "  </div>\n",
              "  "
            ]
          },
          "metadata": {},
          "execution_count": 11
        }
      ],
      "source": [
        "cars.head()"
      ]
    },
    {
      "cell_type": "code",
      "execution_count": null,
      "metadata": {
        "id": "lPQwY5_rbi5G"
      },
      "outputs": [],
      "source": [
        "cars[\"price\"] = cars[\"price\"] / 1000"
      ]
    },
    {
      "cell_type": "code",
      "execution_count": null,
      "metadata": {
        "id": "nHfOnjC0bpBj"
      },
      "outputs": [],
      "source": [
        "cars[\"km\"] = cars[\"km\"] / 10000\n",
        "cars[\"year\"] = cars[\"year\"] - 1900"
      ]
    },
    {
      "cell_type": "code",
      "execution_count": null,
      "metadata": {
        "colab": {
          "base_uri": "https://localhost:8080/",
          "height": 300
        },
        "id": "MdsS1gvbbw49",
        "outputId": "165e3c36-e39d-4dea-efe7-9cef9a6255ff"
      },
      "outputs": [
        {
          "output_type": "execute_result",
          "data": {
            "text/plain": [
              "     brand     model    dealer  \\\n",
              "0  CITROEN        C3  sofibrie   \n",
              "1  RENAULT  Talisman  sofibrie   \n",
              "2  RENAULT    Kadjar  sofibrie   \n",
              "3  RENAULT    Koleos  sofibrie   \n",
              "4  CITROEN        C3  sofibrie   \n",
              "\n",
              "                                                url  price  year      km  \\\n",
              "0  https://www.leboncoin.fr/voitures/2221069564.htm  12.89   117  6.0933   \n",
              "1  https://www.leboncoin.fr/voitures/2218598351.htm  24.90   119  6.3510   \n",
              "2  https://www.leboncoin.fr/voitures/2229908445.htm  20.89   119  5.8858   \n",
              "3  https://www.leboncoin.fr/voitures/2301949775.htm  36.49   122  0.0064   \n",
              "4  https://www.leboncoin.fr/voitures/2274683789.htm  14.89   121  4.2555   \n",
              "\n",
              "      fuel      gearbox  color  ...  DINPower  critAir  nb_img  link  id  \\\n",
              "0  Essence     Manuelle  Blanc  ...        82      1.0       7   NaN   2   \n",
              "1  Essence  Automatique   Gris  ...       159      1.0      20   NaN   3   \n",
              "2   Diesel     Manuelle   Gris  ...       116      2.0      20   NaN   4   \n",
              "3  Essence  Automatique   Noir  ...       158      1.0      20   NaN   5   \n",
              "4  Essence     Manuelle   Gris  ...        83      1.0      20   NaN   6   \n",
              "\n",
              "   brand_n model_n  fuel_n  gearbox_n  color_n  \n",
              "0        0       0       0          0        0  \n",
              "1        1       1       0          1        1  \n",
              "2        1       2       1          0        1  \n",
              "3        1       3       0          1        2  \n",
              "4        0       0       0          0        1  \n",
              "\n",
              "[5 rows x 23 columns]"
            ],
            "text/html": [
              "\n",
              "  <div id=\"df-f3c44ff3-3709-43d7-9ae1-b4cefd19162b\">\n",
              "    <div class=\"colab-df-container\">\n",
              "      <div>\n",
              "<style scoped>\n",
              "    .dataframe tbody tr th:only-of-type {\n",
              "        vertical-align: middle;\n",
              "    }\n",
              "\n",
              "    .dataframe tbody tr th {\n",
              "        vertical-align: top;\n",
              "    }\n",
              "\n",
              "    .dataframe thead th {\n",
              "        text-align: right;\n",
              "    }\n",
              "</style>\n",
              "<table border=\"1\" class=\"dataframe\">\n",
              "  <thead>\n",
              "    <tr style=\"text-align: right;\">\n",
              "      <th></th>\n",
              "      <th>brand</th>\n",
              "      <th>model</th>\n",
              "      <th>dealer</th>\n",
              "      <th>url</th>\n",
              "      <th>price</th>\n",
              "      <th>year</th>\n",
              "      <th>km</th>\n",
              "      <th>fuel</th>\n",
              "      <th>gearbox</th>\n",
              "      <th>color</th>\n",
              "      <th>...</th>\n",
              "      <th>DINPower</th>\n",
              "      <th>critAir</th>\n",
              "      <th>nb_img</th>\n",
              "      <th>link</th>\n",
              "      <th>id</th>\n",
              "      <th>brand_n</th>\n",
              "      <th>model_n</th>\n",
              "      <th>fuel_n</th>\n",
              "      <th>gearbox_n</th>\n",
              "      <th>color_n</th>\n",
              "    </tr>\n",
              "  </thead>\n",
              "  <tbody>\n",
              "    <tr>\n",
              "      <th>0</th>\n",
              "      <td>CITROEN</td>\n",
              "      <td>C3</td>\n",
              "      <td>sofibrie</td>\n",
              "      <td>https://www.leboncoin.fr/voitures/2221069564.htm</td>\n",
              "      <td>12.89</td>\n",
              "      <td>117</td>\n",
              "      <td>6.0933</td>\n",
              "      <td>Essence</td>\n",
              "      <td>Manuelle</td>\n",
              "      <td>Blanc</td>\n",
              "      <td>...</td>\n",
              "      <td>82</td>\n",
              "      <td>1.0</td>\n",
              "      <td>7</td>\n",
              "      <td>NaN</td>\n",
              "      <td>2</td>\n",
              "      <td>0</td>\n",
              "      <td>0</td>\n",
              "      <td>0</td>\n",
              "      <td>0</td>\n",
              "      <td>0</td>\n",
              "    </tr>\n",
              "    <tr>\n",
              "      <th>1</th>\n",
              "      <td>RENAULT</td>\n",
              "      <td>Talisman</td>\n",
              "      <td>sofibrie</td>\n",
              "      <td>https://www.leboncoin.fr/voitures/2218598351.htm</td>\n",
              "      <td>24.90</td>\n",
              "      <td>119</td>\n",
              "      <td>6.3510</td>\n",
              "      <td>Essence</td>\n",
              "      <td>Automatique</td>\n",
              "      <td>Gris</td>\n",
              "      <td>...</td>\n",
              "      <td>159</td>\n",
              "      <td>1.0</td>\n",
              "      <td>20</td>\n",
              "      <td>NaN</td>\n",
              "      <td>3</td>\n",
              "      <td>1</td>\n",
              "      <td>1</td>\n",
              "      <td>0</td>\n",
              "      <td>1</td>\n",
              "      <td>1</td>\n",
              "    </tr>\n",
              "    <tr>\n",
              "      <th>2</th>\n",
              "      <td>RENAULT</td>\n",
              "      <td>Kadjar</td>\n",
              "      <td>sofibrie</td>\n",
              "      <td>https://www.leboncoin.fr/voitures/2229908445.htm</td>\n",
              "      <td>20.89</td>\n",
              "      <td>119</td>\n",
              "      <td>5.8858</td>\n",
              "      <td>Diesel</td>\n",
              "      <td>Manuelle</td>\n",
              "      <td>Gris</td>\n",
              "      <td>...</td>\n",
              "      <td>116</td>\n",
              "      <td>2.0</td>\n",
              "      <td>20</td>\n",
              "      <td>NaN</td>\n",
              "      <td>4</td>\n",
              "      <td>1</td>\n",
              "      <td>2</td>\n",
              "      <td>1</td>\n",
              "      <td>0</td>\n",
              "      <td>1</td>\n",
              "    </tr>\n",
              "    <tr>\n",
              "      <th>3</th>\n",
              "      <td>RENAULT</td>\n",
              "      <td>Koleos</td>\n",
              "      <td>sofibrie</td>\n",
              "      <td>https://www.leboncoin.fr/voitures/2301949775.htm</td>\n",
              "      <td>36.49</td>\n",
              "      <td>122</td>\n",
              "      <td>0.0064</td>\n",
              "      <td>Essence</td>\n",
              "      <td>Automatique</td>\n",
              "      <td>Noir</td>\n",
              "      <td>...</td>\n",
              "      <td>158</td>\n",
              "      <td>1.0</td>\n",
              "      <td>20</td>\n",
              "      <td>NaN</td>\n",
              "      <td>5</td>\n",
              "      <td>1</td>\n",
              "      <td>3</td>\n",
              "      <td>0</td>\n",
              "      <td>1</td>\n",
              "      <td>2</td>\n",
              "    </tr>\n",
              "    <tr>\n",
              "      <th>4</th>\n",
              "      <td>CITROEN</td>\n",
              "      <td>C3</td>\n",
              "      <td>sofibrie</td>\n",
              "      <td>https://www.leboncoin.fr/voitures/2274683789.htm</td>\n",
              "      <td>14.89</td>\n",
              "      <td>121</td>\n",
              "      <td>4.2555</td>\n",
              "      <td>Essence</td>\n",
              "      <td>Manuelle</td>\n",
              "      <td>Gris</td>\n",
              "      <td>...</td>\n",
              "      <td>83</td>\n",
              "      <td>1.0</td>\n",
              "      <td>20</td>\n",
              "      <td>NaN</td>\n",
              "      <td>6</td>\n",
              "      <td>0</td>\n",
              "      <td>0</td>\n",
              "      <td>0</td>\n",
              "      <td>0</td>\n",
              "      <td>1</td>\n",
              "    </tr>\n",
              "  </tbody>\n",
              "</table>\n",
              "<p>5 rows × 23 columns</p>\n",
              "</div>\n",
              "      <button class=\"colab-df-convert\" onclick=\"convertToInteractive('df-f3c44ff3-3709-43d7-9ae1-b4cefd19162b')\"\n",
              "              title=\"Convert this dataframe to an interactive table.\"\n",
              "              style=\"display:none;\">\n",
              "        \n",
              "  <svg xmlns=\"http://www.w3.org/2000/svg\" height=\"24px\"viewBox=\"0 0 24 24\"\n",
              "       width=\"24px\">\n",
              "    <path d=\"M0 0h24v24H0V0z\" fill=\"none\"/>\n",
              "    <path d=\"M18.56 5.44l.94 2.06.94-2.06 2.06-.94-2.06-.94-.94-2.06-.94 2.06-2.06.94zm-11 1L8.5 8.5l.94-2.06 2.06-.94-2.06-.94L8.5 2.5l-.94 2.06-2.06.94zm10 10l.94 2.06.94-2.06 2.06-.94-2.06-.94-.94-2.06-.94 2.06-2.06.94z\"/><path d=\"M17.41 7.96l-1.37-1.37c-.4-.4-.92-.59-1.43-.59-.52 0-1.04.2-1.43.59L10.3 9.45l-7.72 7.72c-.78.78-.78 2.05 0 2.83L4 21.41c.39.39.9.59 1.41.59.51 0 1.02-.2 1.41-.59l7.78-7.78 2.81-2.81c.8-.78.8-2.07 0-2.86zM5.41 20L4 18.59l7.72-7.72 1.47 1.35L5.41 20z\"/>\n",
              "  </svg>\n",
              "      </button>\n",
              "      \n",
              "  <style>\n",
              "    .colab-df-container {\n",
              "      display:flex;\n",
              "      flex-wrap:wrap;\n",
              "      gap: 12px;\n",
              "    }\n",
              "\n",
              "    .colab-df-convert {\n",
              "      background-color: #E8F0FE;\n",
              "      border: none;\n",
              "      border-radius: 50%;\n",
              "      cursor: pointer;\n",
              "      display: none;\n",
              "      fill: #1967D2;\n",
              "      height: 32px;\n",
              "      padding: 0 0 0 0;\n",
              "      width: 32px;\n",
              "    }\n",
              "\n",
              "    .colab-df-convert:hover {\n",
              "      background-color: #E2EBFA;\n",
              "      box-shadow: 0px 1px 2px rgba(60, 64, 67, 0.3), 0px 1px 3px 1px rgba(60, 64, 67, 0.15);\n",
              "      fill: #174EA6;\n",
              "    }\n",
              "\n",
              "    [theme=dark] .colab-df-convert {\n",
              "      background-color: #3B4455;\n",
              "      fill: #D2E3FC;\n",
              "    }\n",
              "\n",
              "    [theme=dark] .colab-df-convert:hover {\n",
              "      background-color: #434B5C;\n",
              "      box-shadow: 0px 1px 3px 1px rgba(0, 0, 0, 0.15);\n",
              "      filter: drop-shadow(0px 1px 2px rgba(0, 0, 0, 0.3));\n",
              "      fill: #FFFFFF;\n",
              "    }\n",
              "  </style>\n",
              "\n",
              "      <script>\n",
              "        const buttonEl =\n",
              "          document.querySelector('#df-f3c44ff3-3709-43d7-9ae1-b4cefd19162b button.colab-df-convert');\n",
              "        buttonEl.style.display =\n",
              "          google.colab.kernel.accessAllowed ? 'block' : 'none';\n",
              "\n",
              "        async function convertToInteractive(key) {\n",
              "          const element = document.querySelector('#df-f3c44ff3-3709-43d7-9ae1-b4cefd19162b');\n",
              "          const dataTable =\n",
              "            await google.colab.kernel.invokeFunction('convertToInteractive',\n",
              "                                                     [key], {});\n",
              "          if (!dataTable) return;\n",
              "\n",
              "          const docLinkHtml = 'Like what you see? Visit the ' +\n",
              "            '<a target=\"_blank\" href=https://colab.research.google.com/notebooks/data_table.ipynb>data table notebook</a>'\n",
              "            + ' to learn more about interactive tables.';\n",
              "          element.innerHTML = '';\n",
              "          dataTable['output_type'] = 'display_data';\n",
              "          await google.colab.output.renderOutput(dataTable, element);\n",
              "          const docLink = document.createElement('div');\n",
              "          docLink.innerHTML = docLinkHtml;\n",
              "          element.appendChild(docLink);\n",
              "        }\n",
              "      </script>\n",
              "    </div>\n",
              "  </div>\n",
              "  "
            ]
          },
          "metadata": {},
          "execution_count": 14
        }
      ],
      "source": [
        "cars.head()"
      ]
    },
    {
      "cell_type": "code",
      "execution_count": null,
      "metadata": {
        "id": "IfddcPIVZKTB"
      },
      "outputs": [],
      "source": [
        "import numpy as np"
      ]
    },
    {
      "cell_type": "code",
      "execution_count": null,
      "metadata": {
        "id": "Je56U7I1Z1fl"
      },
      "outputs": [],
      "source": [
        "car_vectors = {}"
      ]
    },
    {
      "cell_type": "code",
      "execution_count": null,
      "metadata": {
        "id": "KYfKwYEhYKvR"
      },
      "outputs": [],
      "source": [
        "for index, row in cars.iterrows():\n",
        "  car_vector = np.ndarray((32,))\n",
        "  i = 0\n",
        "  for param, weight in parameter_weights.items():\n",
        "    if param in textual_data:\n",
        "      car_vector[i:i+weight] = row[param+\"_n\"]\n",
        "    else :\n",
        "      car_vector[i:i+weight] = row[param]\n",
        "    i += weight\n",
        "  car_vectors[row[\"id\"]] = car_vector"
      ]
    },
    {
      "cell_type": "code",
      "execution_count": null,
      "metadata": {
        "id": "LI2OyRPVbGsF"
      },
      "outputs": [],
      "source": []
    },
    {
      "cell_type": "code",
      "execution_count": null,
      "metadata": {
        "id": "slrWBaRlbKrV"
      },
      "outputs": [],
      "source": []
    },
    {
      "cell_type": "markdown",
      "metadata": {
        "id": "O1ScHfe_cUyE"
      },
      "source": [
        "# Data Preparation"
      ]
    },
    {
      "cell_type": "code",
      "execution_count": null,
      "metadata": {
        "colab": {
          "base_uri": "https://localhost:8080/",
          "height": 206
        },
        "id": "MnoeetpgcUK1",
        "outputId": "ffc2e4fb-52b8-4894-840d-3762b09e0e22"
      },
      "outputs": [
        {
          "output_type": "execute_result",
          "data": {
            "text/plain": [
              "   user_id  car_id  value swiped\n",
              "0       57       2     -1      t\n",
              "1       29       3     -1      f\n",
              "2       29       4     -1      f\n",
              "3       29       5     -1      f\n",
              "4       29       6     -1      f"
            ],
            "text/html": [
              "\n",
              "  <div id=\"df-a93f618c-b091-4601-bfe2-a692adcb005b\">\n",
              "    <div class=\"colab-df-container\">\n",
              "      <div>\n",
              "<style scoped>\n",
              "    .dataframe tbody tr th:only-of-type {\n",
              "        vertical-align: middle;\n",
              "    }\n",
              "\n",
              "    .dataframe tbody tr th {\n",
              "        vertical-align: top;\n",
              "    }\n",
              "\n",
              "    .dataframe thead th {\n",
              "        text-align: right;\n",
              "    }\n",
              "</style>\n",
              "<table border=\"1\" class=\"dataframe\">\n",
              "  <thead>\n",
              "    <tr style=\"text-align: right;\">\n",
              "      <th></th>\n",
              "      <th>user_id</th>\n",
              "      <th>car_id</th>\n",
              "      <th>value</th>\n",
              "      <th>swiped</th>\n",
              "    </tr>\n",
              "  </thead>\n",
              "  <tbody>\n",
              "    <tr>\n",
              "      <th>0</th>\n",
              "      <td>57</td>\n",
              "      <td>2</td>\n",
              "      <td>-1</td>\n",
              "      <td>t</td>\n",
              "    </tr>\n",
              "    <tr>\n",
              "      <th>1</th>\n",
              "      <td>29</td>\n",
              "      <td>3</td>\n",
              "      <td>-1</td>\n",
              "      <td>f</td>\n",
              "    </tr>\n",
              "    <tr>\n",
              "      <th>2</th>\n",
              "      <td>29</td>\n",
              "      <td>4</td>\n",
              "      <td>-1</td>\n",
              "      <td>f</td>\n",
              "    </tr>\n",
              "    <tr>\n",
              "      <th>3</th>\n",
              "      <td>29</td>\n",
              "      <td>5</td>\n",
              "      <td>-1</td>\n",
              "      <td>f</td>\n",
              "    </tr>\n",
              "    <tr>\n",
              "      <th>4</th>\n",
              "      <td>29</td>\n",
              "      <td>6</td>\n",
              "      <td>-1</td>\n",
              "      <td>f</td>\n",
              "    </tr>\n",
              "  </tbody>\n",
              "</table>\n",
              "</div>\n",
              "      <button class=\"colab-df-convert\" onclick=\"convertToInteractive('df-a93f618c-b091-4601-bfe2-a692adcb005b')\"\n",
              "              title=\"Convert this dataframe to an interactive table.\"\n",
              "              style=\"display:none;\">\n",
              "        \n",
              "  <svg xmlns=\"http://www.w3.org/2000/svg\" height=\"24px\"viewBox=\"0 0 24 24\"\n",
              "       width=\"24px\">\n",
              "    <path d=\"M0 0h24v24H0V0z\" fill=\"none\"/>\n",
              "    <path d=\"M18.56 5.44l.94 2.06.94-2.06 2.06-.94-2.06-.94-.94-2.06-.94 2.06-2.06.94zm-11 1L8.5 8.5l.94-2.06 2.06-.94-2.06-.94L8.5 2.5l-.94 2.06-2.06.94zm10 10l.94 2.06.94-2.06 2.06-.94-2.06-.94-.94-2.06-.94 2.06-2.06.94z\"/><path d=\"M17.41 7.96l-1.37-1.37c-.4-.4-.92-.59-1.43-.59-.52 0-1.04.2-1.43.59L10.3 9.45l-7.72 7.72c-.78.78-.78 2.05 0 2.83L4 21.41c.39.39.9.59 1.41.59.51 0 1.02-.2 1.41-.59l7.78-7.78 2.81-2.81c.8-.78.8-2.07 0-2.86zM5.41 20L4 18.59l7.72-7.72 1.47 1.35L5.41 20z\"/>\n",
              "  </svg>\n",
              "      </button>\n",
              "      \n",
              "  <style>\n",
              "    .colab-df-container {\n",
              "      display:flex;\n",
              "      flex-wrap:wrap;\n",
              "      gap: 12px;\n",
              "    }\n",
              "\n",
              "    .colab-df-convert {\n",
              "      background-color: #E8F0FE;\n",
              "      border: none;\n",
              "      border-radius: 50%;\n",
              "      cursor: pointer;\n",
              "      display: none;\n",
              "      fill: #1967D2;\n",
              "      height: 32px;\n",
              "      padding: 0 0 0 0;\n",
              "      width: 32px;\n",
              "    }\n",
              "\n",
              "    .colab-df-convert:hover {\n",
              "      background-color: #E2EBFA;\n",
              "      box-shadow: 0px 1px 2px rgba(60, 64, 67, 0.3), 0px 1px 3px 1px rgba(60, 64, 67, 0.15);\n",
              "      fill: #174EA6;\n",
              "    }\n",
              "\n",
              "    [theme=dark] .colab-df-convert {\n",
              "      background-color: #3B4455;\n",
              "      fill: #D2E3FC;\n",
              "    }\n",
              "\n",
              "    [theme=dark] .colab-df-convert:hover {\n",
              "      background-color: #434B5C;\n",
              "      box-shadow: 0px 1px 3px 1px rgba(0, 0, 0, 0.15);\n",
              "      filter: drop-shadow(0px 1px 2px rgba(0, 0, 0, 0.3));\n",
              "      fill: #FFFFFF;\n",
              "    }\n",
              "  </style>\n",
              "\n",
              "      <script>\n",
              "        const buttonEl =\n",
              "          document.querySelector('#df-a93f618c-b091-4601-bfe2-a692adcb005b button.colab-df-convert');\n",
              "        buttonEl.style.display =\n",
              "          google.colab.kernel.accessAllowed ? 'block' : 'none';\n",
              "\n",
              "        async function convertToInteractive(key) {\n",
              "          const element = document.querySelector('#df-a93f618c-b091-4601-bfe2-a692adcb005b');\n",
              "          const dataTable =\n",
              "            await google.colab.kernel.invokeFunction('convertToInteractive',\n",
              "                                                     [key], {});\n",
              "          if (!dataTable) return;\n",
              "\n",
              "          const docLinkHtml = 'Like what you see? Visit the ' +\n",
              "            '<a target=\"_blank\" href=https://colab.research.google.com/notebooks/data_table.ipynb>data table notebook</a>'\n",
              "            + ' to learn more about interactive tables.';\n",
              "          element.innerHTML = '';\n",
              "          dataTable['output_type'] = 'display_data';\n",
              "          await google.colab.output.renderOutput(dataTable, element);\n",
              "          const docLink = document.createElement('div');\n",
              "          docLink.innerHTML = docLinkHtml;\n",
              "          element.appendChild(docLink);\n",
              "        }\n",
              "      </script>\n",
              "    </div>\n",
              "  </div>\n",
              "  "
            ]
          },
          "metadata": {},
          "execution_count": 18
        }
      ],
      "source": [
        "like.head()"
      ]
    },
    {
      "cell_type": "code",
      "execution_count": null,
      "metadata": {
        "colab": {
          "base_uri": "https://localhost:8080/",
          "height": 206
        },
        "id": "VIA-frbndc6f",
        "outputId": "69e3d4eb-2e44-4c84-d796-8b554a3df539"
      },
      "outputs": [
        {
          "output_type": "execute_result",
          "data": {
            "text/plain": [
              "   maxPrice essence diesel hybrid elec manual auto  id\n",
              "0     25000       t      f      t    t      t    t  57\n",
              "1        -1       t      f      f    f      t    f  27\n",
              "2     25000       t      f      t    t      t    t  28\n",
              "3     13000       t      t      f    f      t    f  29\n",
              "4     64000       t      t      f    f      f    t  30"
            ],
            "text/html": [
              "\n",
              "  <div id=\"df-542b54a9-2a6b-48cd-ba6a-850052e6062c\">\n",
              "    <div class=\"colab-df-container\">\n",
              "      <div>\n",
              "<style scoped>\n",
              "    .dataframe tbody tr th:only-of-type {\n",
              "        vertical-align: middle;\n",
              "    }\n",
              "\n",
              "    .dataframe tbody tr th {\n",
              "        vertical-align: top;\n",
              "    }\n",
              "\n",
              "    .dataframe thead th {\n",
              "        text-align: right;\n",
              "    }\n",
              "</style>\n",
              "<table border=\"1\" class=\"dataframe\">\n",
              "  <thead>\n",
              "    <tr style=\"text-align: right;\">\n",
              "      <th></th>\n",
              "      <th>maxPrice</th>\n",
              "      <th>essence</th>\n",
              "      <th>diesel</th>\n",
              "      <th>hybrid</th>\n",
              "      <th>elec</th>\n",
              "      <th>manual</th>\n",
              "      <th>auto</th>\n",
              "      <th>id</th>\n",
              "    </tr>\n",
              "  </thead>\n",
              "  <tbody>\n",
              "    <tr>\n",
              "      <th>0</th>\n",
              "      <td>25000</td>\n",
              "      <td>t</td>\n",
              "      <td>f</td>\n",
              "      <td>t</td>\n",
              "      <td>t</td>\n",
              "      <td>t</td>\n",
              "      <td>t</td>\n",
              "      <td>57</td>\n",
              "    </tr>\n",
              "    <tr>\n",
              "      <th>1</th>\n",
              "      <td>-1</td>\n",
              "      <td>t</td>\n",
              "      <td>f</td>\n",
              "      <td>f</td>\n",
              "      <td>f</td>\n",
              "      <td>t</td>\n",
              "      <td>f</td>\n",
              "      <td>27</td>\n",
              "    </tr>\n",
              "    <tr>\n",
              "      <th>2</th>\n",
              "      <td>25000</td>\n",
              "      <td>t</td>\n",
              "      <td>f</td>\n",
              "      <td>t</td>\n",
              "      <td>t</td>\n",
              "      <td>t</td>\n",
              "      <td>t</td>\n",
              "      <td>28</td>\n",
              "    </tr>\n",
              "    <tr>\n",
              "      <th>3</th>\n",
              "      <td>13000</td>\n",
              "      <td>t</td>\n",
              "      <td>t</td>\n",
              "      <td>f</td>\n",
              "      <td>f</td>\n",
              "      <td>t</td>\n",
              "      <td>f</td>\n",
              "      <td>29</td>\n",
              "    </tr>\n",
              "    <tr>\n",
              "      <th>4</th>\n",
              "      <td>64000</td>\n",
              "      <td>t</td>\n",
              "      <td>t</td>\n",
              "      <td>f</td>\n",
              "      <td>f</td>\n",
              "      <td>f</td>\n",
              "      <td>t</td>\n",
              "      <td>30</td>\n",
              "    </tr>\n",
              "  </tbody>\n",
              "</table>\n",
              "</div>\n",
              "      <button class=\"colab-df-convert\" onclick=\"convertToInteractive('df-542b54a9-2a6b-48cd-ba6a-850052e6062c')\"\n",
              "              title=\"Convert this dataframe to an interactive table.\"\n",
              "              style=\"display:none;\">\n",
              "        \n",
              "  <svg xmlns=\"http://www.w3.org/2000/svg\" height=\"24px\"viewBox=\"0 0 24 24\"\n",
              "       width=\"24px\">\n",
              "    <path d=\"M0 0h24v24H0V0z\" fill=\"none\"/>\n",
              "    <path d=\"M18.56 5.44l.94 2.06.94-2.06 2.06-.94-2.06-.94-.94-2.06-.94 2.06-2.06.94zm-11 1L8.5 8.5l.94-2.06 2.06-.94-2.06-.94L8.5 2.5l-.94 2.06-2.06.94zm10 10l.94 2.06.94-2.06 2.06-.94-2.06-.94-.94-2.06-.94 2.06-2.06.94z\"/><path d=\"M17.41 7.96l-1.37-1.37c-.4-.4-.92-.59-1.43-.59-.52 0-1.04.2-1.43.59L10.3 9.45l-7.72 7.72c-.78.78-.78 2.05 0 2.83L4 21.41c.39.39.9.59 1.41.59.51 0 1.02-.2 1.41-.59l7.78-7.78 2.81-2.81c.8-.78.8-2.07 0-2.86zM5.41 20L4 18.59l7.72-7.72 1.47 1.35L5.41 20z\"/>\n",
              "  </svg>\n",
              "      </button>\n",
              "      \n",
              "  <style>\n",
              "    .colab-df-container {\n",
              "      display:flex;\n",
              "      flex-wrap:wrap;\n",
              "      gap: 12px;\n",
              "    }\n",
              "\n",
              "    .colab-df-convert {\n",
              "      background-color: #E8F0FE;\n",
              "      border: none;\n",
              "      border-radius: 50%;\n",
              "      cursor: pointer;\n",
              "      display: none;\n",
              "      fill: #1967D2;\n",
              "      height: 32px;\n",
              "      padding: 0 0 0 0;\n",
              "      width: 32px;\n",
              "    }\n",
              "\n",
              "    .colab-df-convert:hover {\n",
              "      background-color: #E2EBFA;\n",
              "      box-shadow: 0px 1px 2px rgba(60, 64, 67, 0.3), 0px 1px 3px 1px rgba(60, 64, 67, 0.15);\n",
              "      fill: #174EA6;\n",
              "    }\n",
              "\n",
              "    [theme=dark] .colab-df-convert {\n",
              "      background-color: #3B4455;\n",
              "      fill: #D2E3FC;\n",
              "    }\n",
              "\n",
              "    [theme=dark] .colab-df-convert:hover {\n",
              "      background-color: #434B5C;\n",
              "      box-shadow: 0px 1px 3px 1px rgba(0, 0, 0, 0.15);\n",
              "      filter: drop-shadow(0px 1px 2px rgba(0, 0, 0, 0.3));\n",
              "      fill: #FFFFFF;\n",
              "    }\n",
              "  </style>\n",
              "\n",
              "      <script>\n",
              "        const buttonEl =\n",
              "          document.querySelector('#df-542b54a9-2a6b-48cd-ba6a-850052e6062c button.colab-df-convert');\n",
              "        buttonEl.style.display =\n",
              "          google.colab.kernel.accessAllowed ? 'block' : 'none';\n",
              "\n",
              "        async function convertToInteractive(key) {\n",
              "          const element = document.querySelector('#df-542b54a9-2a6b-48cd-ba6a-850052e6062c');\n",
              "          const dataTable =\n",
              "            await google.colab.kernel.invokeFunction('convertToInteractive',\n",
              "                                                     [key], {});\n",
              "          if (!dataTable) return;\n",
              "\n",
              "          const docLinkHtml = 'Like what you see? Visit the ' +\n",
              "            '<a target=\"_blank\" href=https://colab.research.google.com/notebooks/data_table.ipynb>data table notebook</a>'\n",
              "            + ' to learn more about interactive tables.';\n",
              "          element.innerHTML = '';\n",
              "          dataTable['output_type'] = 'display_data';\n",
              "          await google.colab.output.renderOutput(dataTable, element);\n",
              "          const docLink = document.createElement('div');\n",
              "          docLink.innerHTML = docLinkHtml;\n",
              "          element.appendChild(docLink);\n",
              "        }\n",
              "      </script>\n",
              "    </div>\n",
              "  </div>\n",
              "  "
            ]
          },
          "metadata": {},
          "execution_count": 19
        }
      ],
      "source": [
        "user.head()"
      ]
    },
    {
      "cell_type": "code",
      "execution_count": null,
      "metadata": {
        "id": "_DTLGysegIej"
      },
      "outputs": [],
      "source": [
        "user_context_vectors = {}"
      ]
    },
    {
      "cell_type": "code",
      "execution_count": null,
      "metadata": {
        "id": "ZF7L43Djgfoy"
      },
      "outputs": [],
      "source": [
        "for index, row in user.iterrows():\n",
        "  user_vector = np.array([0]*32)\n",
        "  user_vector[3:3+4] = row[\"maxPrice\"] / 1000\n",
        "  user_vector[12] = int(row[\"essence\"] == \"t\")\n",
        "  user_vector[13] = int(row[\"diesel\"]  == \"t\")\n",
        "  user_vector[14] = int(row[\"hybrid\"]  == \"t\")\n",
        "  user_vector[15] = int(row[\"elec\"] == \"t\")\n",
        "\n",
        "  user_vector[17:19] = int(row[\"manual\"]  == \"t\")\n",
        "  user_vector[19:21] = int(row[\"auto\"]  == \"t\")\n",
        "  user_context_vectors[row[\"id\"]] = user_vector"
      ]
    },
    {
      "cell_type": "code",
      "execution_count": null,
      "metadata": {
        "id": "U7jGMXewioRd"
      },
      "outputs": [],
      "source": [
        "inputs = []\n",
        "outputs = []\n",
        "current_context_vectors= user_context_vectors.copy()"
      ]
    },
    {
      "cell_type": "code",
      "execution_count": null,
      "metadata": {
        "id": "vuydaxfgMGq0"
      },
      "outputs": [],
      "source": []
    },
    {
      "cell_type": "code",
      "execution_count": null,
      "metadata": {
        "colab": {
          "base_uri": "https://localhost:8080/",
          "height": 206
        },
        "id": "FmkylXQZLV5l",
        "outputId": "e34c0543-2a81-42dd-c56a-a2ee750f4544"
      },
      "outputs": [
        {
          "output_type": "execute_result",
          "data": {
            "text/plain": [
              "   user_id  car_id  value swiped\n",
              "0       57       2     -1      t\n",
              "1       29       3     -1      f\n",
              "2       29       4     -1      f\n",
              "3       29       5     -1      f\n",
              "4       29       6     -1      f"
            ],
            "text/html": [
              "\n",
              "  <div id=\"df-aeb9ded5-0ae9-4466-8684-94f5352b4886\">\n",
              "    <div class=\"colab-df-container\">\n",
              "      <div>\n",
              "<style scoped>\n",
              "    .dataframe tbody tr th:only-of-type {\n",
              "        vertical-align: middle;\n",
              "    }\n",
              "\n",
              "    .dataframe tbody tr th {\n",
              "        vertical-align: top;\n",
              "    }\n",
              "\n",
              "    .dataframe thead th {\n",
              "        text-align: right;\n",
              "    }\n",
              "</style>\n",
              "<table border=\"1\" class=\"dataframe\">\n",
              "  <thead>\n",
              "    <tr style=\"text-align: right;\">\n",
              "      <th></th>\n",
              "      <th>user_id</th>\n",
              "      <th>car_id</th>\n",
              "      <th>value</th>\n",
              "      <th>swiped</th>\n",
              "    </tr>\n",
              "  </thead>\n",
              "  <tbody>\n",
              "    <tr>\n",
              "      <th>0</th>\n",
              "      <td>57</td>\n",
              "      <td>2</td>\n",
              "      <td>-1</td>\n",
              "      <td>t</td>\n",
              "    </tr>\n",
              "    <tr>\n",
              "      <th>1</th>\n",
              "      <td>29</td>\n",
              "      <td>3</td>\n",
              "      <td>-1</td>\n",
              "      <td>f</td>\n",
              "    </tr>\n",
              "    <tr>\n",
              "      <th>2</th>\n",
              "      <td>29</td>\n",
              "      <td>4</td>\n",
              "      <td>-1</td>\n",
              "      <td>f</td>\n",
              "    </tr>\n",
              "    <tr>\n",
              "      <th>3</th>\n",
              "      <td>29</td>\n",
              "      <td>5</td>\n",
              "      <td>-1</td>\n",
              "      <td>f</td>\n",
              "    </tr>\n",
              "    <tr>\n",
              "      <th>4</th>\n",
              "      <td>29</td>\n",
              "      <td>6</td>\n",
              "      <td>-1</td>\n",
              "      <td>f</td>\n",
              "    </tr>\n",
              "  </tbody>\n",
              "</table>\n",
              "</div>\n",
              "      <button class=\"colab-df-convert\" onclick=\"convertToInteractive('df-aeb9ded5-0ae9-4466-8684-94f5352b4886')\"\n",
              "              title=\"Convert this dataframe to an interactive table.\"\n",
              "              style=\"display:none;\">\n",
              "        \n",
              "  <svg xmlns=\"http://www.w3.org/2000/svg\" height=\"24px\"viewBox=\"0 0 24 24\"\n",
              "       width=\"24px\">\n",
              "    <path d=\"M0 0h24v24H0V0z\" fill=\"none\"/>\n",
              "    <path d=\"M18.56 5.44l.94 2.06.94-2.06 2.06-.94-2.06-.94-.94-2.06-.94 2.06-2.06.94zm-11 1L8.5 8.5l.94-2.06 2.06-.94-2.06-.94L8.5 2.5l-.94 2.06-2.06.94zm10 10l.94 2.06.94-2.06 2.06-.94-2.06-.94-.94-2.06-.94 2.06-2.06.94z\"/><path d=\"M17.41 7.96l-1.37-1.37c-.4-.4-.92-.59-1.43-.59-.52 0-1.04.2-1.43.59L10.3 9.45l-7.72 7.72c-.78.78-.78 2.05 0 2.83L4 21.41c.39.39.9.59 1.41.59.51 0 1.02-.2 1.41-.59l7.78-7.78 2.81-2.81c.8-.78.8-2.07 0-2.86zM5.41 20L4 18.59l7.72-7.72 1.47 1.35L5.41 20z\"/>\n",
              "  </svg>\n",
              "      </button>\n",
              "      \n",
              "  <style>\n",
              "    .colab-df-container {\n",
              "      display:flex;\n",
              "      flex-wrap:wrap;\n",
              "      gap: 12px;\n",
              "    }\n",
              "\n",
              "    .colab-df-convert {\n",
              "      background-color: #E8F0FE;\n",
              "      border: none;\n",
              "      border-radius: 50%;\n",
              "      cursor: pointer;\n",
              "      display: none;\n",
              "      fill: #1967D2;\n",
              "      height: 32px;\n",
              "      padding: 0 0 0 0;\n",
              "      width: 32px;\n",
              "    }\n",
              "\n",
              "    .colab-df-convert:hover {\n",
              "      background-color: #E2EBFA;\n",
              "      box-shadow: 0px 1px 2px rgba(60, 64, 67, 0.3), 0px 1px 3px 1px rgba(60, 64, 67, 0.15);\n",
              "      fill: #174EA6;\n",
              "    }\n",
              "\n",
              "    [theme=dark] .colab-df-convert {\n",
              "      background-color: #3B4455;\n",
              "      fill: #D2E3FC;\n",
              "    }\n",
              "\n",
              "    [theme=dark] .colab-df-convert:hover {\n",
              "      background-color: #434B5C;\n",
              "      box-shadow: 0px 1px 3px 1px rgba(0, 0, 0, 0.15);\n",
              "      filter: drop-shadow(0px 1px 2px rgba(0, 0, 0, 0.3));\n",
              "      fill: #FFFFFF;\n",
              "    }\n",
              "  </style>\n",
              "\n",
              "      <script>\n",
              "        const buttonEl =\n",
              "          document.querySelector('#df-aeb9ded5-0ae9-4466-8684-94f5352b4886 button.colab-df-convert');\n",
              "        buttonEl.style.display =\n",
              "          google.colab.kernel.accessAllowed ? 'block' : 'none';\n",
              "\n",
              "        async function convertToInteractive(key) {\n",
              "          const element = document.querySelector('#df-aeb9ded5-0ae9-4466-8684-94f5352b4886');\n",
              "          const dataTable =\n",
              "            await google.colab.kernel.invokeFunction('convertToInteractive',\n",
              "                                                     [key], {});\n",
              "          if (!dataTable) return;\n",
              "\n",
              "          const docLinkHtml = 'Like what you see? Visit the ' +\n",
              "            '<a target=\"_blank\" href=https://colab.research.google.com/notebooks/data_table.ipynb>data table notebook</a>'\n",
              "            + ' to learn more about interactive tables.';\n",
              "          element.innerHTML = '';\n",
              "          dataTable['output_type'] = 'display_data';\n",
              "          await google.colab.output.renderOutput(dataTable, element);\n",
              "          const docLink = document.createElement('div');\n",
              "          docLink.innerHTML = docLinkHtml;\n",
              "          element.appendChild(docLink);\n",
              "        }\n",
              "      </script>\n",
              "    </div>\n",
              "  </div>\n",
              "  "
            ]
          },
          "metadata": {},
          "execution_count": 23
        }
      ],
      "source": [
        "like.head()"
      ]
    },
    {
      "cell_type": "code",
      "execution_count": null,
      "metadata": {
        "id": "2RyMzk-Di8-5"
      },
      "outputs": [],
      "source": [
        "# Get rows with value 0\n",
        "value_zero_rows = like[like['value'] == 0]\n",
        "\n",
        "# Create a dictionary to store the first ideal car for each user\n",
        "first_ideal_cars = value_zero_rows.groupby('user_id')['car_id'].first().to_dict()\n",
        "\n",
        "# Define a function to get the user context\n",
        "def get_user_context(user_id, current_context_vectors):\n",
        "    if user_id not in current_context_vectors:\n",
        "        current_context_vectors[user_id] = np.zeros(32)\n",
        "    return current_context_vectors[user_id]\n",
        "\n",
        "# Define a function to update the user context\n",
        "def update_user_context(row, current_context_vectors):\n",
        "    if row['value'] == 0:\n",
        "        current_context_vectors[row['user_id']] = car_vectors[row['car_id']]\n",
        "\n",
        "# Apply the update_user_context function to each row\n",
        "like.apply(lambda row: update_user_context(row, current_context_vectors), axis=1)\n",
        "\n",
        "# Iterate over the rows in 'like'\n",
        "for _, row in like.iterrows():\n",
        "    user_id = row['user_id']\n",
        "    if user_id in first_ideal_cars:\n",
        "        ideal_car_id = first_ideal_cars[user_id]\n",
        "        user_context = get_user_context(user_id, current_context_vectors)\n",
        "        inputs.append(np.concatenate((car_vectors[row['car_id']], np.array([row['value']] * 16), user_context)))\n",
        "        outputs.append(car_vectors[ideal_car_id])"
      ]
    },
    {
      "cell_type": "code",
      "execution_count": null,
      "metadata": {
        "colab": {
          "base_uri": "https://localhost:8080/"
        },
        "id": "RKwUQjMsIxpP",
        "outputId": "b1250337-e139-42cf-93e4-481989e76a3d"
      },
      "outputs": [
        {
          "output_type": "execute_result",
          "data": {
            "text/plain": [
              "True"
            ]
          },
          "metadata": {},
          "execution_count": 26
        }
      ],
      "source": [
        "len(inputs) == len(outputs)"
      ]
    },
    {
      "cell_type": "code",
      "execution_count": null,
      "metadata": {
        "colab": {
          "base_uri": "https://localhost:8080/"
        },
        "id": "aTLZIjzbKhoN",
        "outputId": "c327d571-252b-4370-f122-f8750316a720"
      },
      "outputs": [
        {
          "output_type": "execute_result",
          "data": {
            "text/plain": [
              "515476"
            ]
          },
          "metadata": {},
          "execution_count": 27
        }
      ],
      "source": [
        "len(inputs)"
      ]
    },
    {
      "cell_type": "code",
      "execution_count": null,
      "metadata": {
        "colab": {
          "base_uri": "https://localhost:8080/"
        },
        "id": "LfmNk-H1Kmc1",
        "outputId": "2494cd54-7454-4cef-95ff-3ed82d5d1261"
      },
      "outputs": [
        {
          "output_type": "execute_result",
          "data": {
            "text/plain": [
              "32"
            ]
          },
          "metadata": {},
          "execution_count": 28
        }
      ],
      "source": [
        "len(outputs[0])"
      ]
    },
    {
      "cell_type": "code",
      "execution_count": null,
      "metadata": {
        "id": "HsukkS0ODp3U"
      },
      "outputs": [],
      "source": [
        "inputs = np.nan_to_num(inputs)"
      ]
    },
    {
      "cell_type": "code",
      "execution_count": null,
      "metadata": {
        "id": "u28KpwvlDp3U"
      },
      "outputs": [],
      "source": [
        "outputs = np.nan_to_num(outputs)"
      ]
    },
    {
      "cell_type": "markdown",
      "metadata": {
        "id": "jkyHgMU3b8wE"
      },
      "source": [
        "# Building the neural network"
      ]
    },
    {
      "cell_type": "code",
      "execution_count": null,
      "metadata": {
        "id": "pt0OVhAeeq36"
      },
      "outputs": [],
      "source": [
        "import tensorflow as tf"
      ]
    },
    {
      "cell_type": "code",
      "execution_count": null,
      "metadata": {
        "id": "G4f8efwIeniX"
      },
      "outputs": [],
      "source": [
        "\n",
        "model = tf.keras.Sequential(\n",
        "    [\n",
        "        tf.keras.Input(shape=(64+16)),\n",
        "        tf.keras.layers.Dense(128, activation=\"relu\", name=\"Dense1\"),\n",
        "        tf.keras.layers.Dropout(0.5),  # Add dropout layer with 50% dropout rate\n",
        "        tf.keras.layers.Dense(256, activation=\"relu\", name=\"Dense2\"),\n",
        "        tf.keras.layers.Dropout(0.4),  # Add dropout layer with 50% dropout rate\n",
        "        tf.keras.layers.Dense(512, activation=\"relu\", name=\"UserRepresSpace\"),\n",
        "        tf.keras.layers.Dropout(0.3),  # Add dropout layer with 50% dropout rate\n",
        "        tf.keras.layers.Dense(256, activation=\"relu\", name=\"Dense3\"),\n",
        "        tf.keras.layers.Dropout(0.4),  # Add dropout layer with 50% dropout rate\n",
        "        tf.keras.layers.Dense(128, activation=\"relu\", name=\"Dense4\"),\n",
        "        tf.keras.layers.Dropout(0.5),  # Add dropout layer with 50% dropout rate\n",
        "        tf.keras.layers.Dense(32, activation=\"relu\", name=\"DenseOutput\"),\n",
        "    ]\n",
        ")"
      ]
    },
    {
      "cell_type": "code",
      "execution_count": null,
      "metadata": {
        "colab": {
          "base_uri": "https://localhost:8080/"
        },
        "id": "es6nHwtaJ4sU",
        "outputId": "93449d43-cf23-4f89-be70-08ce25cd11de"
      },
      "outputs": [
        {
          "output_type": "stream",
          "name": "stdout",
          "text": [
            "Model: \"sequential_1\"\n",
            "_________________________________________________________________\n",
            " Layer (type)                Output Shape              Param #   \n",
            "=================================================================\n",
            " Dense1 (Dense)              (None, 128)               10368     \n",
            "                                                                 \n",
            " dropout (Dropout)           (None, 128)               0         \n",
            "                                                                 \n",
            " Dense2 (Dense)              (None, 256)               33024     \n",
            "                                                                 \n",
            " dropout_1 (Dropout)         (None, 256)               0         \n",
            "                                                                 \n",
            " UserRepresSpace (Dense)     (None, 512)               131584    \n",
            "                                                                 \n",
            " dropout_2 (Dropout)         (None, 512)               0         \n",
            "                                                                 \n",
            " Dense3 (Dense)              (None, 256)               131328    \n",
            "                                                                 \n",
            " dropout_3 (Dropout)         (None, 256)               0         \n",
            "                                                                 \n",
            " Dense4 (Dense)              (None, 128)               32896     \n",
            "                                                                 \n",
            " dropout_4 (Dropout)         (None, 128)               0         \n",
            "                                                                 \n",
            " DenseOutput (Dense)         (None, 32)                4128      \n",
            "                                                                 \n",
            "=================================================================\n",
            "Total params: 343,328\n",
            "Trainable params: 343,328\n",
            "Non-trainable params: 0\n",
            "_________________________________________________________________\n"
          ]
        }
      ],
      "source": [
        "model.summary()"
      ]
    },
    {
      "cell_type": "code",
      "execution_count": null,
      "metadata": {
        "id": "_iy7dBW-J5zQ"
      },
      "outputs": [],
      "source": [
        "model.compile(\n",
        "    optimizer=tf.keras.optimizers.Adam(),  # Optimizer\n",
        "    # Loss function to minimize\n",
        "    loss=tf.keras.losses.CosineSimilarity(),\n",
        "    # List of metrics to monitor\n",
        "    metrics=[tf.keras.metrics.Precision()],\n",
        ")"
      ]
    },
    {
      "cell_type": "code",
      "execution_count": null,
      "metadata": {
        "id": "lpw99ki-NvTr"
      },
      "outputs": [],
      "source": [
        "train_dataset = tf.data.Dataset.from_tensor_slices((inputs[:int(len(inputs)*3/4)],outputs[:int(len(outputs)*3/4)]))\n",
        "BATCH_SIZE = 64\n",
        "SHUFFLE_BUFFER_SIZE = 100\n",
        "train_dataset = train_dataset.shuffle(SHUFFLE_BUFFER_SIZE).batch(BATCH_SIZE)\n",
        "test_dataset =  tf.data.Dataset.from_tensor_slices((inputs[int(len(inputs)*3/4):],outputs[int(len(outputs)*3/4):]))"
      ]
    },
    {
      "cell_type": "code",
      "execution_count": null,
      "metadata": {
        "colab": {
          "base_uri": "https://localhost:8080/"
        },
        "id": "pqID6QmvM_IC",
        "outputId": "8980e2f7-1462-4661-ae6a-ba5ae0cad047"
      },
      "outputs": [
        {
          "output_type": "stream",
          "name": "stdout",
          "text": [
            "Epoch 1/11\n",
            "6041/6041 [==============================] - 25s 4ms/step - loss: -0.9910 - precision_1: 0.9791\n",
            "Epoch 2/11\n",
            "6041/6041 [==============================] - 22s 4ms/step - loss: -0.9914 - precision_1: 0.9839\n",
            "Epoch 3/11\n",
            "6041/6041 [==============================] - 23s 4ms/step - loss: -0.9926 - precision_1: 0.9834\n",
            "Epoch 4/11\n",
            "6041/6041 [==============================] - 22s 4ms/step - loss: -0.9930 - precision_1: 0.9826\n",
            "Epoch 5/11\n",
            "6041/6041 [==============================] - 22s 4ms/step - loss: -0.9929 - precision_1: 0.9808\n",
            "Epoch 6/11\n",
            "6041/6041 [==============================] - 22s 4ms/step - loss: -0.9930 - precision_1: 0.9770\n",
            "Epoch 7/11\n",
            "6041/6041 [==============================] - 22s 4ms/step - loss: -0.9930 - precision_1: 0.9749\n",
            "Epoch 8/11\n",
            "6041/6041 [==============================] - 22s 4ms/step - loss: -0.9930 - precision_1: 0.9776\n",
            "Epoch 9/11\n",
            "6041/6041 [==============================] - 22s 4ms/step - loss: -0.9930 - precision_1: 0.9767\n",
            "Epoch 10/11\n",
            "6041/6041 [==============================] - 22s 4ms/step - loss: -0.9930 - precision_1: 0.9763\n",
            "Epoch 11/11\n",
            "6041/6041 [==============================] - 22s 4ms/step - loss: -0.9930 - precision_1: 0.9763\n"
          ]
        },
        {
          "output_type": "execute_result",
          "data": {
            "text/plain": [
              "<keras.callbacks.History at 0x7f2a283bb5e0>"
            ]
          },
          "metadata": {},
          "execution_count": 45
        }
      ],
      "source": [
        "model.fit(train_dataset, batch_size=64, epochs=11)"
      ]
    },
    {
      "cell_type": "code",
      "execution_count": null,
      "metadata": {
        "id": "uAWboeYrNCmL"
      },
      "outputs": [],
      "source": [
        "model.save(\"base_model\")"
      ]
    },
    {
      "cell_type": "code",
      "execution_count": null,
      "metadata": {
        "id": "ibdng-u7PZHe",
        "outputId": "0eaa904a-b1ba-414e-d461-aba1b8b20652",
        "colab": {
          "base_uri": "https://localhost:8080/"
        }
      },
      "outputs": [
        {
          "output_type": "stream",
          "name": "stdout",
          "text": [
            "2014/2014 [==============================] - 4s 2ms/step - loss: -0.9984 - precision_1: 1.0000\n"
          ]
        },
        {
          "output_type": "execute_result",
          "data": {
            "text/plain": [
              "[-0.9984337091445923, 1.0]"
            ]
          },
          "metadata": {},
          "execution_count": 47
        }
      ],
      "source": [
        "model.evaluate(test_dataset.batch(BATCH_SIZE))"
      ]
    },
    {
      "cell_type": "code",
      "execution_count": null,
      "metadata": {
        "id": "wNGQhSsbDp3Y",
        "colab": {
          "base_uri": "https://localhost:8080/",
          "height": 35
        },
        "outputId": "f7126ceb-8285-4fa2-ce99-26750b14124b"
      },
      "outputs": [
        {
          "output_type": "execute_result",
          "data": {
            "text/plain": [
              "'/content/base_model2.zip'"
            ],
            "application/vnd.google.colaboratory.intrinsic+json": {
              "type": "string"
            }
          },
          "metadata": {},
          "execution_count": 49
        }
      ],
      "source": [
        "import shutil\n",
        "shutil.make_archive(\"base_model2\", 'zip', \"base_model\")"
      ]
    },
    {
      "cell_type": "code",
      "source": [],
      "metadata": {
        "id": "JdsIEP_WLi-T"
      },
      "execution_count": null,
      "outputs": []
    }
  ],
  "metadata": {
    "accelerator": "GPU",
    "colab": {
      "provenance": [],
      "machine_shape": "hm",
      "gpuType": "A100"
    },
    "gpuClass": "standard",
    "kernelspec": {
      "display_name": "Python 3",
      "name": "python3"
    },
    "language_info": {
      "codemirror_mode": {
        "name": "ipython",
        "version": 3
      },
      "file_extension": ".py",
      "mimetype": "text/x-python",
      "name": "python",
      "nbconvert_exporter": "python",
      "pygments_lexer": "ipython3",
      "version": "3.10.7"
    }
  },
  "nbformat": 4,
  "nbformat_minor": 0
}